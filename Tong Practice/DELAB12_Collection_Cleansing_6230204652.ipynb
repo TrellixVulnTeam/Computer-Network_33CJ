{
 "cells": [
  {
   "cell_type": "markdown",
   "metadata": {
    "id": "sTgloU3PHMH5"
   },
   "source": [
    "# Data Collection"
   ]
  },
  {
   "cell_type": "markdown",
   "metadata": {
    "id": "P6D3bDkGHLdI"
   },
   "source": [
    "**เป้าหมาย:** การสร้าง csv ไฟล์เพื่อรวมข้อมูลจากแหล่งข้อมูล 3 ลักษณะ ได้แก่ ไฟล์ csv, API และ webpage\n",
    "\n",
    "**ไฟล์ csv:** ให้ download จาก google classroom มาใส่ใน google drive ที่ link ไว้\n",
    "\n",
    "**API:** ใช้ url \"http://wwry.net/deapi/api.php\" โดยตัว API จะส่งค่ากลับมาเป็น json format\n",
    "\n",
    "**Webpage:** ให้ดึงข้อมูลจากหน้าเว็บ \"http://wwry.net/deapi/\""
   ]
  },
  {
   "cell_type": "markdown",
   "metadata": {
    "id": "kVODWGyuNKgB"
   },
   "source": [
    "# ดึงข้อมูลจากไฟล์ csv"
   ]
  },
  {
   "cell_type": "markdown",
   "metadata": {
    "id": "QXk29cJSNmIF"
   },
   "source": [
    "Download csv ไฟล์จาก https://drive.google.com/file/d/172UfpZ1Sj1BvUN_4BsAmmqQ6AOnSBvOu/view?usp=sharing"
   ]
  },
  {
   "cell_type": "code",
   "execution_count": 1,
   "metadata": {
    "colab": {
     "base_uri": "https://localhost:8080/"
    },
    "executionInfo": {
     "elapsed": 2543,
     "status": "ok",
     "timestamp": 1617355541242,
     "user": {
      "displayName": "Chonsawat Nakanam",
      "photoUrl": "https://lh3.googleusercontent.com/a-/AOh14GhBVcRQFjmQdAxaGJaaE-teIvm6lX5H7Vcwq-FZ=s64",
      "userId": "10897345993297645160"
     },
     "user_tz": -420
    },
    "id": "rIrDqu_INq8H",
    "outputId": "97abff72-1214-4b86-d5b5-e0a1f02ef574"
   },
   "outputs": [
    {
     "name": "stdout",
     "output_type": "stream",
     "text": [
      "Downloading...\n",
      "From: https://drive.google.com/uc?id=172UfpZ1Sj1BvUN_4BsAmmqQ6AOnSBvOu\n",
      "To: /content/AB_NYC_2019_02.csv\n",
      "6.28MB [00:00, 29.3MB/s]\n"
     ]
    }
   ],
   "source": [
    "!gdown --id 172UfpZ1Sj1BvUN_4BsAmmqQ6AOnSBvOu"
   ]
  },
  {
   "cell_type": "markdown",
   "metadata": {
    "id": "ei6YiBGhNOWO"
   },
   "source": [
    "ให้นักศึกษาดึงข้อมูลจากไฟล์ csv ที่กำหนดให้มาสร้าง DataFrame ดังภาพ\n",
    "\n",
    "ตรวจสอบขนาดของ DataFrame\n",
    "\n",
    "ตรวจสอบลักษณะข้อมูล 5 แถวแรกใน DataFrame\n",
    "\n"
   ]
  },
  {
   "cell_type": "code",
   "execution_count": null,
   "metadata": {
    "colab": {
     "base_uri": "https://localhost:8080/",
     "height": 428
    },
    "executionInfo": {
     "elapsed": 1010,
     "status": "ok",
     "timestamp": 1616245717277,
     "user": {
      "displayName": "Warunya Wunnasri",
      "photoUrl": "https://lh3.googleusercontent.com/a-/AOh14GjJhMcMXktp58JyzX_oFg1bYUNgMXy4GEH6LBFB=s64",
      "userId": "00897604730220330760"
     },
     "user_tz": -420
    },
    "id": "UctY7T1cNhg5",
    "outputId": "a58291ca-38dc-43a9-debd-9a828a4fe322"
   },
   "outputs": [
    {
     "name": "stdout",
     "output_type": "stream",
     "text": [
      "(48895, 12)\n"
     ]
    },
    {
     "data": {
      "text/html": [
       "<div>\n",
       "<style scoped>\n",
       "    .dataframe tbody tr th:only-of-type {\n",
       "        vertical-align: middle;\n",
       "    }\n",
       "\n",
       "    .dataframe tbody tr th {\n",
       "        vertical-align: top;\n",
       "    }\n",
       "\n",
       "    .dataframe thead th {\n",
       "        text-align: right;\n",
       "    }\n",
       "</style>\n",
       "<table border=\"1\" class=\"dataframe\">\n",
       "  <thead>\n",
       "    <tr style=\"text-align: right;\">\n",
       "      <th></th>\n",
       "      <th>room_id</th>\n",
       "      <th>name</th>\n",
       "      <th>neighbourhood_group</th>\n",
       "      <th>neighbourhood</th>\n",
       "      <th>latitude</th>\n",
       "      <th>longitude</th>\n",
       "      <th>room_type</th>\n",
       "      <th>price</th>\n",
       "      <th>minimum_nights</th>\n",
       "      <th>number_of_reviews</th>\n",
       "      <th>last_review</th>\n",
       "      <th>reviews_per_month</th>\n",
       "    </tr>\n",
       "  </thead>\n",
       "  <tbody>\n",
       "    <tr>\n",
       "      <th>0</th>\n",
       "      <td>2539</td>\n",
       "      <td>Clean &amp; quiet apt home by the park</td>\n",
       "      <td>Brooklyn</td>\n",
       "      <td>Kensington</td>\n",
       "      <td>40.64749</td>\n",
       "      <td>-73.97237</td>\n",
       "      <td>Private room</td>\n",
       "      <td>149</td>\n",
       "      <td>1</td>\n",
       "      <td>9</td>\n",
       "      <td>2018-10-19</td>\n",
       "      <td>0.21</td>\n",
       "    </tr>\n",
       "    <tr>\n",
       "      <th>1</th>\n",
       "      <td>2595</td>\n",
       "      <td>Skylit Midtown Castle</td>\n",
       "      <td>Manhattan</td>\n",
       "      <td>Midtown</td>\n",
       "      <td>40.75362</td>\n",
       "      <td>-73.98377</td>\n",
       "      <td>Entire home/apt</td>\n",
       "      <td>225</td>\n",
       "      <td>1</td>\n",
       "      <td>45</td>\n",
       "      <td>2019-05-21</td>\n",
       "      <td>0.38</td>\n",
       "    </tr>\n",
       "    <tr>\n",
       "      <th>2</th>\n",
       "      <td>3647</td>\n",
       "      <td>THE VILLAGE OF HARLEM....NEW YORK !</td>\n",
       "      <td>Manhattan</td>\n",
       "      <td>Harlem</td>\n",
       "      <td>40.80902</td>\n",
       "      <td>-73.94190</td>\n",
       "      <td>Private room</td>\n",
       "      <td>150</td>\n",
       "      <td>3</td>\n",
       "      <td>0</td>\n",
       "      <td>NaN</td>\n",
       "      <td>NaN</td>\n",
       "    </tr>\n",
       "    <tr>\n",
       "      <th>3</th>\n",
       "      <td>3831</td>\n",
       "      <td>Cozy Entire Floor of Brownstone</td>\n",
       "      <td>Brooklyn</td>\n",
       "      <td>Clinton Hill</td>\n",
       "      <td>40.68514</td>\n",
       "      <td>-73.95976</td>\n",
       "      <td>Entire home/apt</td>\n",
       "      <td>89</td>\n",
       "      <td>1</td>\n",
       "      <td>270</td>\n",
       "      <td>2019-07-05</td>\n",
       "      <td>4.64</td>\n",
       "    </tr>\n",
       "    <tr>\n",
       "      <th>4</th>\n",
       "      <td>5022</td>\n",
       "      <td>Entire Apt: Spacious Studio/Loft by central park</td>\n",
       "      <td>Manhattan</td>\n",
       "      <td>East Harlem</td>\n",
       "      <td>40.79851</td>\n",
       "      <td>-73.94399</td>\n",
       "      <td>Entire home/apt</td>\n",
       "      <td>80</td>\n",
       "      <td>10</td>\n",
       "      <td>9</td>\n",
       "      <td>2018-11-19</td>\n",
       "      <td>0.10</td>\n",
       "    </tr>\n",
       "  </tbody>\n",
       "</table>\n",
       "</div>"
      ],
      "text/plain": [
       "   room_id  ... reviews_per_month\n",
       "0     2539  ...              0.21\n",
       "1     2595  ...              0.38\n",
       "2     3647  ...               NaN\n",
       "3     3831  ...              4.64\n",
       "4     5022  ...              0.10\n",
       "\n",
       "[5 rows x 12 columns]"
      ]
     },
     "execution_count": 4,
     "metadata": {
      "tags": []
     },
     "output_type": "execute_result"
    }
   ],
   "source": [
    "# === Expected Output ==="
   ]
  },
  {
   "cell_type": "markdown",
   "metadata": {
    "id": "z0PTJOX-On4k"
   },
   "source": [
    "ตั้งค่า room_id ให้เป็น index"
   ]
  },
  {
   "cell_type": "code",
   "execution_count": null,
   "metadata": {
    "colab": {
     "base_uri": "https://localhost:8080/",
     "height": 442
    },
    "executionInfo": {
     "elapsed": 1196,
     "status": "ok",
     "timestamp": 1616245725454,
     "user": {
      "displayName": "Warunya Wunnasri",
      "photoUrl": "https://lh3.googleusercontent.com/a-/AOh14GjJhMcMXktp58JyzX_oFg1bYUNgMXy4GEH6LBFB=s64",
      "userId": "00897604730220330760"
     },
     "user_tz": -420
    },
    "id": "LxFpku8gOvhH",
    "outputId": "0a07d1f7-67eb-4019-9189-5cbfab6c3b86"
   },
   "outputs": [
    {
     "data": {
      "text/html": [
       "<div>\n",
       "<style scoped>\n",
       "    .dataframe tbody tr th:only-of-type {\n",
       "        vertical-align: middle;\n",
       "    }\n",
       "\n",
       "    .dataframe tbody tr th {\n",
       "        vertical-align: top;\n",
       "    }\n",
       "\n",
       "    .dataframe thead th {\n",
       "        text-align: right;\n",
       "    }\n",
       "</style>\n",
       "<table border=\"1\" class=\"dataframe\">\n",
       "  <thead>\n",
       "    <tr style=\"text-align: right;\">\n",
       "      <th></th>\n",
       "      <th>name</th>\n",
       "      <th>neighbourhood_group</th>\n",
       "      <th>neighbourhood</th>\n",
       "      <th>latitude</th>\n",
       "      <th>longitude</th>\n",
       "      <th>room_type</th>\n",
       "      <th>price</th>\n",
       "      <th>minimum_nights</th>\n",
       "      <th>number_of_reviews</th>\n",
       "      <th>last_review</th>\n",
       "      <th>reviews_per_month</th>\n",
       "    </tr>\n",
       "    <tr>\n",
       "      <th>room_id</th>\n",
       "      <th></th>\n",
       "      <th></th>\n",
       "      <th></th>\n",
       "      <th></th>\n",
       "      <th></th>\n",
       "      <th></th>\n",
       "      <th></th>\n",
       "      <th></th>\n",
       "      <th></th>\n",
       "      <th></th>\n",
       "      <th></th>\n",
       "    </tr>\n",
       "  </thead>\n",
       "  <tbody>\n",
       "    <tr>\n",
       "      <th>2539</th>\n",
       "      <td>Clean &amp; quiet apt home by the park</td>\n",
       "      <td>Brooklyn</td>\n",
       "      <td>Kensington</td>\n",
       "      <td>40.64749</td>\n",
       "      <td>-73.97237</td>\n",
       "      <td>Private room</td>\n",
       "      <td>149</td>\n",
       "      <td>1</td>\n",
       "      <td>9</td>\n",
       "      <td>2018-10-19</td>\n",
       "      <td>0.21</td>\n",
       "    </tr>\n",
       "    <tr>\n",
       "      <th>2595</th>\n",
       "      <td>Skylit Midtown Castle</td>\n",
       "      <td>Manhattan</td>\n",
       "      <td>Midtown</td>\n",
       "      <td>40.75362</td>\n",
       "      <td>-73.98377</td>\n",
       "      <td>Entire home/apt</td>\n",
       "      <td>225</td>\n",
       "      <td>1</td>\n",
       "      <td>45</td>\n",
       "      <td>2019-05-21</td>\n",
       "      <td>0.38</td>\n",
       "    </tr>\n",
       "    <tr>\n",
       "      <th>3647</th>\n",
       "      <td>THE VILLAGE OF HARLEM....NEW YORK !</td>\n",
       "      <td>Manhattan</td>\n",
       "      <td>Harlem</td>\n",
       "      <td>40.80902</td>\n",
       "      <td>-73.94190</td>\n",
       "      <td>Private room</td>\n",
       "      <td>150</td>\n",
       "      <td>3</td>\n",
       "      <td>0</td>\n",
       "      <td>NaN</td>\n",
       "      <td>NaN</td>\n",
       "    </tr>\n",
       "    <tr>\n",
       "      <th>3831</th>\n",
       "      <td>Cozy Entire Floor of Brownstone</td>\n",
       "      <td>Brooklyn</td>\n",
       "      <td>Clinton Hill</td>\n",
       "      <td>40.68514</td>\n",
       "      <td>-73.95976</td>\n",
       "      <td>Entire home/apt</td>\n",
       "      <td>89</td>\n",
       "      <td>1</td>\n",
       "      <td>270</td>\n",
       "      <td>2019-07-05</td>\n",
       "      <td>4.64</td>\n",
       "    </tr>\n",
       "    <tr>\n",
       "      <th>5022</th>\n",
       "      <td>Entire Apt: Spacious Studio/Loft by central park</td>\n",
       "      <td>Manhattan</td>\n",
       "      <td>East Harlem</td>\n",
       "      <td>40.79851</td>\n",
       "      <td>-73.94399</td>\n",
       "      <td>Entire home/apt</td>\n",
       "      <td>80</td>\n",
       "      <td>10</td>\n",
       "      <td>9</td>\n",
       "      <td>2018-11-19</td>\n",
       "      <td>0.10</td>\n",
       "    </tr>\n",
       "  </tbody>\n",
       "</table>\n",
       "</div>"
      ],
      "text/plain": [
       "                                                     name  ... reviews_per_month\n",
       "room_id                                                    ...                  \n",
       "2539                   Clean & quiet apt home by the park  ...              0.21\n",
       "2595                                Skylit Midtown Castle  ...              0.38\n",
       "3647                  THE VILLAGE OF HARLEM....NEW YORK !  ...               NaN\n",
       "3831                      Cozy Entire Floor of Brownstone  ...              4.64\n",
       "5022     Entire Apt: Spacious Studio/Loft by central park  ...              0.10\n",
       "\n",
       "[5 rows x 11 columns]"
      ]
     },
     "execution_count": 5,
     "metadata": {
      "tags": []
     },
     "output_type": "execute_result"
    }
   ],
   "source": [
    "# === Expected Output ==="
   ]
  },
  {
   "cell_type": "code",
   "execution_count": 4,
   "metadata": {
    "colab": {
     "base_uri": "https://localhost:8080/",
     "height": 292
    },
    "executionInfo": {
     "elapsed": 835,
     "status": "ok",
     "timestamp": 1617355651087,
     "user": {
      "displayName": "Chonsawat Nakanam",
      "photoUrl": "https://lh3.googleusercontent.com/a-/AOh14GhBVcRQFjmQdAxaGJaaE-teIvm6lX5H7Vcwq-FZ=s64",
      "userId": "10897345993297645160"
     },
     "user_tz": -420
    },
    "id": "GU_Bl78B5_I5",
    "outputId": "f07ada84-bc46-48c8-e205-6ae5b93fb1d0"
   },
   "outputs": [
    {
     "data": {
      "text/html": [
       "<div>\n",
       "<style scoped>\n",
       "    .dataframe tbody tr th:only-of-type {\n",
       "        vertical-align: middle;\n",
       "    }\n",
       "\n",
       "    .dataframe tbody tr th {\n",
       "        vertical-align: top;\n",
       "    }\n",
       "\n",
       "    .dataframe thead th {\n",
       "        text-align: right;\n",
       "    }\n",
       "</style>\n",
       "<table border=\"1\" class=\"dataframe\">\n",
       "  <thead>\n",
       "    <tr style=\"text-align: right;\">\n",
       "      <th></th>\n",
       "      <th>name</th>\n",
       "      <th>neighbourhood_group</th>\n",
       "      <th>neighbourhood</th>\n",
       "      <th>latitude</th>\n",
       "      <th>longitude</th>\n",
       "      <th>room_type</th>\n",
       "      <th>price</th>\n",
       "      <th>minimum_nights</th>\n",
       "      <th>number_of_reviews</th>\n",
       "      <th>last_review</th>\n",
       "      <th>reviews_per_month</th>\n",
       "    </tr>\n",
       "    <tr>\n",
       "      <th>room_id</th>\n",
       "      <th></th>\n",
       "      <th></th>\n",
       "      <th></th>\n",
       "      <th></th>\n",
       "      <th></th>\n",
       "      <th></th>\n",
       "      <th></th>\n",
       "      <th></th>\n",
       "      <th></th>\n",
       "      <th></th>\n",
       "      <th></th>\n",
       "    </tr>\n",
       "  </thead>\n",
       "  <tbody>\n",
       "    <tr>\n",
       "      <th>2539</th>\n",
       "      <td>Clean &amp; quiet apt home by the park</td>\n",
       "      <td>Brooklyn</td>\n",
       "      <td>Kensington</td>\n",
       "      <td>40.64749</td>\n",
       "      <td>-73.97237</td>\n",
       "      <td>Private room</td>\n",
       "      <td>149</td>\n",
       "      <td>1</td>\n",
       "      <td>9</td>\n",
       "      <td>2018-10-19</td>\n",
       "      <td>0.21</td>\n",
       "    </tr>\n",
       "    <tr>\n",
       "      <th>2595</th>\n",
       "      <td>Skylit Midtown Castle</td>\n",
       "      <td>Manhattan</td>\n",
       "      <td>Midtown</td>\n",
       "      <td>40.75362</td>\n",
       "      <td>-73.98377</td>\n",
       "      <td>Entire home/apt</td>\n",
       "      <td>225</td>\n",
       "      <td>1</td>\n",
       "      <td>45</td>\n",
       "      <td>2019-05-21</td>\n",
       "      <td>0.38</td>\n",
       "    </tr>\n",
       "    <tr>\n",
       "      <th>3647</th>\n",
       "      <td>THE VILLAGE OF HARLEM....NEW YORK !</td>\n",
       "      <td>Manhattan</td>\n",
       "      <td>Harlem</td>\n",
       "      <td>40.80902</td>\n",
       "      <td>-73.94190</td>\n",
       "      <td>Private room</td>\n",
       "      <td>150</td>\n",
       "      <td>3</td>\n",
       "      <td>0</td>\n",
       "      <td>NaN</td>\n",
       "      <td>NaN</td>\n",
       "    </tr>\n",
       "    <tr>\n",
       "      <th>3831</th>\n",
       "      <td>Cozy Entire Floor of Brownstone</td>\n",
       "      <td>Brooklyn</td>\n",
       "      <td>Clinton Hill</td>\n",
       "      <td>40.68514</td>\n",
       "      <td>-73.95976</td>\n",
       "      <td>Entire home/apt</td>\n",
       "      <td>89</td>\n",
       "      <td>1</td>\n",
       "      <td>270</td>\n",
       "      <td>2019-07-05</td>\n",
       "      <td>4.64</td>\n",
       "    </tr>\n",
       "    <tr>\n",
       "      <th>5022</th>\n",
       "      <td>Entire Apt: Spacious Studio/Loft by central park</td>\n",
       "      <td>Manhattan</td>\n",
       "      <td>East Harlem</td>\n",
       "      <td>40.79851</td>\n",
       "      <td>-73.94399</td>\n",
       "      <td>Entire home/apt</td>\n",
       "      <td>80</td>\n",
       "      <td>10</td>\n",
       "      <td>9</td>\n",
       "      <td>2018-11-19</td>\n",
       "      <td>0.10</td>\n",
       "    </tr>\n",
       "  </tbody>\n",
       "</table>\n",
       "</div>"
      ],
      "text/plain": [
       "                                                     name  ... reviews_per_month\n",
       "room_id                                                    ...                  \n",
       "2539                   Clean & quiet apt home by the park  ...              0.21\n",
       "2595                                Skylit Midtown Castle  ...              0.38\n",
       "3647                  THE VILLAGE OF HARLEM....NEW YORK !  ...               NaN\n",
       "3831                      Cozy Entire Floor of Brownstone  ...              4.64\n",
       "5022     Entire Apt: Spacious Studio/Loft by central park  ...              0.10\n",
       "\n",
       "[5 rows x 11 columns]"
      ]
     },
     "execution_count": 4,
     "metadata": {
      "tags": []
     },
     "output_type": "execute_result"
    }
   ],
   "source": [
    "# Doing\n",
    "import pandas as pd\n",
    "pd.read_csv(\"AB_NYC_2019_02.csv\").set_index(\"room_id\").head()"
   ]
  },
  {
   "cell_type": "markdown",
   "metadata": {
    "id": "FpY9Inw6J8gp"
   },
   "source": [
    "# ดึงข้อมูลจาก API"
   ]
  },
  {
   "cell_type": "markdown",
   "metadata": {
    "id": "TC9MRRGsHm0x"
   },
   "source": [
    "ให้นักศึกษาเขียนโค้ดเพื่อดึงข้อมูลจาก API ที่กำหนด\n",
    "\n",
    "จากนั้นตรวจสอบว่า status code ที่ตอบกลับจาก API คืออะไร"
   ]
  },
  {
   "cell_type": "code",
   "execution_count": null,
   "metadata": {
    "colab": {
     "base_uri": "https://localhost:8080/"
    },
    "executionInfo": {
     "elapsed": 4616,
     "status": "ok",
     "timestamp": 1616245759409,
     "user": {
      "displayName": "Warunya Wunnasri",
      "photoUrl": "https://lh3.googleusercontent.com/a-/AOh14GjJhMcMXktp58JyzX_oFg1bYUNgMXy4GEH6LBFB=s64",
      "userId": "00897604730220330760"
     },
     "user_tz": -420
    },
    "id": "dlfHTVuBHnAu",
    "outputId": "87aa2769-b7c2-46e4-b9e3-109f6afe6395"
   },
   "outputs": [
    {
     "name": "stdout",
     "output_type": "stream",
     "text": [
      "<Response [200]>\n"
     ]
    }
   ],
   "source": [
    "# === Expected Output ==="
   ]
  },
  {
   "cell_type": "markdown",
   "metadata": {
    "id": "TUJGeUwcKWTF"
   },
   "source": [
    "แปลงผลลัพธ์ให้เป็น json\n",
    "\n",
    "print ชนิดของตัวแปรออกมาดูเพื่อตรวจสอบความถูกต้อง"
   ]
  },
  {
   "cell_type": "code",
   "execution_count": null,
   "metadata": {
    "colab": {
     "base_uri": "https://localhost:8080/"
    },
    "executionInfo": {
     "elapsed": 1123,
     "status": "ok",
     "timestamp": 1616245764483,
     "user": {
      "displayName": "Warunya Wunnasri",
      "photoUrl": "https://lh3.googleusercontent.com/a-/AOh14GjJhMcMXktp58JyzX_oFg1bYUNgMXy4GEH6LBFB=s64",
      "userId": "00897604730220330760"
     },
     "user_tz": -420
    },
    "id": "TOnxSBIsKWfq",
    "outputId": "7e6d31b6-fcbb-492b-8030-4c2dc5b7c507"
   },
   "outputs": [
    {
     "name": "stdout",
     "output_type": "stream",
     "text": [
      "<class 'dict'>\n"
     ]
    }
   ],
   "source": [
    "# === Expected Output ==="
   ]
  },
  {
   "cell_type": "markdown",
   "metadata": {
    "id": "TrNMoOBRLGe1"
   },
   "source": [
    "แปลงข้อมูล json ที่อยู่ในรูปแบบ Python dictionary ให้เป็น DataFrame\n",
    "\n",
    "โดย DataFrame จะมี 3 columns คือ index, room_id, host_id\n",
    "\n",
    "ตรวจสอบโดยการ print ขนาดของ DataFrame และ columns "
   ]
  },
  {
   "cell_type": "code",
   "execution_count": null,
   "metadata": {
    "colab": {
     "base_uri": "https://localhost:8080/"
    },
    "executionInfo": {
     "elapsed": 1138,
     "status": "ok",
     "timestamp": 1616245772594,
     "user": {
      "displayName": "Warunya Wunnasri",
      "photoUrl": "https://lh3.googleusercontent.com/a-/AOh14GjJhMcMXktp58JyzX_oFg1bYUNgMXy4GEH6LBFB=s64",
      "userId": "00897604730220330760"
     },
     "user_tz": -420
    },
    "id": "SqqYK-RDIopy",
    "outputId": "31e4630c-a983-47a4-8f0e-caab474b3ffb"
   },
   "outputs": [
    {
     "name": "stdout",
     "output_type": "stream",
     "text": [
      "(48895, 3)\n",
      "Index(['index', 'room_id', 'host_id'], dtype='object')\n"
     ]
    }
   ],
   "source": [
    "# === Expected Output ==="
   ]
  },
  {
   "cell_type": "markdown",
   "metadata": {
    "id": "c8TS1Y9DLyE0"
   },
   "source": [
    "ตรวจสอบว่ามีแถว/คอลัมภ์ที่มีข้อมูลไม่ครบหรือไม่ (มีค่าว่างหรือไม่)"
   ]
  },
  {
   "cell_type": "code",
   "execution_count": null,
   "metadata": {
    "colab": {
     "base_uri": "https://localhost:8080/"
    },
    "executionInfo": {
     "elapsed": 1132,
     "status": "ok",
     "timestamp": 1616245785914,
     "user": {
      "displayName": "Warunya Wunnasri",
      "photoUrl": "https://lh3.googleusercontent.com/a-/AOh14GjJhMcMXktp58JyzX_oFg1bYUNgMXy4GEH6LBFB=s64",
      "userId": "00897604730220330760"
     },
     "user_tz": -420
    },
    "id": "D_JyuBaQLzxr",
    "outputId": "1e172163-e356-498a-8543-2533fa2103c1"
   },
   "outputs": [
    {
     "name": "stdout",
     "output_type": "stream",
     "text": [
      "index      0\n",
      "room_id    0\n",
      "host_id    0\n",
      "dtype: int64\n"
     ]
    }
   ],
   "source": [
    "# === Expected Output ==="
   ]
  },
  {
   "cell_type": "markdown",
   "metadata": {
    "id": "2jNPHRx1wb4z"
   },
   "source": [
    "เอา column \"index\" ออก"
   ]
  },
  {
   "cell_type": "code",
   "execution_count": null,
   "metadata": {
    "colab": {
     "base_uri": "https://localhost:8080/",
     "height": 204
    },
    "executionInfo": {
     "elapsed": 1148,
     "status": "ok",
     "timestamp": 1616245851889,
     "user": {
      "displayName": "Warunya Wunnasri",
      "photoUrl": "https://lh3.googleusercontent.com/a-/AOh14GjJhMcMXktp58JyzX_oFg1bYUNgMXy4GEH6LBFB=s64",
      "userId": "00897604730220330760"
     },
     "user_tz": -420
    },
    "id": "kc6VszFLwVFZ",
    "outputId": "efac88b3-fa12-4e07-9bc4-469acc5bb882"
   },
   "outputs": [
    {
     "data": {
      "text/html": [
       "<div>\n",
       "<style scoped>\n",
       "    .dataframe tbody tr th:only-of-type {\n",
       "        vertical-align: middle;\n",
       "    }\n",
       "\n",
       "    .dataframe tbody tr th {\n",
       "        vertical-align: top;\n",
       "    }\n",
       "\n",
       "    .dataframe thead th {\n",
       "        text-align: right;\n",
       "    }\n",
       "</style>\n",
       "<table border=\"1\" class=\"dataframe\">\n",
       "  <thead>\n",
       "    <tr style=\"text-align: right;\">\n",
       "      <th></th>\n",
       "      <th>room_id</th>\n",
       "      <th>host_id</th>\n",
       "    </tr>\n",
       "  </thead>\n",
       "  <tbody>\n",
       "    <tr>\n",
       "      <th>0</th>\n",
       "      <td>2539</td>\n",
       "      <td>2787</td>\n",
       "    </tr>\n",
       "    <tr>\n",
       "      <th>1</th>\n",
       "      <td>2595</td>\n",
       "      <td>2845</td>\n",
       "    </tr>\n",
       "    <tr>\n",
       "      <th>2</th>\n",
       "      <td>3647</td>\n",
       "      <td>4632</td>\n",
       "    </tr>\n",
       "    <tr>\n",
       "      <th>3</th>\n",
       "      <td>3831</td>\n",
       "      <td>4869</td>\n",
       "    </tr>\n",
       "    <tr>\n",
       "      <th>4</th>\n",
       "      <td>5022</td>\n",
       "      <td>7192</td>\n",
       "    </tr>\n",
       "  </tbody>\n",
       "</table>\n",
       "</div>"
      ],
      "text/plain": [
       "   room_id  host_id\n",
       "0     2539     2787\n",
       "1     2595     2845\n",
       "2     3647     4632\n",
       "3     3831     4869\n",
       "4     5022     7192"
      ]
     },
     "execution_count": 12,
     "metadata": {
      "tags": []
     },
     "output_type": "execute_result"
    }
   ],
   "source": [
    "# === Expected Output ==="
   ]
  },
  {
   "cell_type": "markdown",
   "metadata": {
    "id": "GunNx_uqvqsd"
   },
   "source": [
    "ตั้งค่า index เป็น room_id"
   ]
  },
  {
   "cell_type": "code",
   "execution_count": null,
   "metadata": {
    "colab": {
     "base_uri": "https://localhost:8080/",
     "height": 235
    },
    "executionInfo": {
     "elapsed": 832,
     "status": "ok",
     "timestamp": 1616245860329,
     "user": {
      "displayName": "Warunya Wunnasri",
      "photoUrl": "https://lh3.googleusercontent.com/a-/AOh14GjJhMcMXktp58JyzX_oFg1bYUNgMXy4GEH6LBFB=s64",
      "userId": "00897604730220330760"
     },
     "user_tz": -420
    },
    "id": "EE5oSUWUvtsZ",
    "outputId": "b18b045c-f4f6-4aa2-9251-afc3f8717936"
   },
   "outputs": [
    {
     "data": {
      "text/html": [
       "<div>\n",
       "<style scoped>\n",
       "    .dataframe tbody tr th:only-of-type {\n",
       "        vertical-align: middle;\n",
       "    }\n",
       "\n",
       "    .dataframe tbody tr th {\n",
       "        vertical-align: top;\n",
       "    }\n",
       "\n",
       "    .dataframe thead th {\n",
       "        text-align: right;\n",
       "    }\n",
       "</style>\n",
       "<table border=\"1\" class=\"dataframe\">\n",
       "  <thead>\n",
       "    <tr style=\"text-align: right;\">\n",
       "      <th></th>\n",
       "      <th>host_id</th>\n",
       "    </tr>\n",
       "    <tr>\n",
       "      <th>room_id</th>\n",
       "      <th></th>\n",
       "    </tr>\n",
       "  </thead>\n",
       "  <tbody>\n",
       "    <tr>\n",
       "      <th>2539</th>\n",
       "      <td>2787</td>\n",
       "    </tr>\n",
       "    <tr>\n",
       "      <th>2595</th>\n",
       "      <td>2845</td>\n",
       "    </tr>\n",
       "    <tr>\n",
       "      <th>3647</th>\n",
       "      <td>4632</td>\n",
       "    </tr>\n",
       "    <tr>\n",
       "      <th>3831</th>\n",
       "      <td>4869</td>\n",
       "    </tr>\n",
       "    <tr>\n",
       "      <th>5022</th>\n",
       "      <td>7192</td>\n",
       "    </tr>\n",
       "  </tbody>\n",
       "</table>\n",
       "</div>"
      ],
      "text/plain": [
       "         host_id\n",
       "room_id         \n",
       "2539        2787\n",
       "2595        2845\n",
       "3647        4632\n",
       "3831        4869\n",
       "5022        7192"
      ]
     },
     "execution_count": 13,
     "metadata": {
      "tags": []
     },
     "output_type": "execute_result"
    }
   ],
   "source": [
    "# === Expected Output ==="
   ]
  },
  {
   "cell_type": "code",
   "execution_count": 25,
   "metadata": {
    "colab": {
     "base_uri": "https://localhost:8080/",
     "height": 225
    },
    "executionInfo": {
     "elapsed": 2904,
     "status": "ok",
     "timestamp": 1617356231633,
     "user": {
      "displayName": "Chonsawat Nakanam",
      "photoUrl": "https://lh3.googleusercontent.com/a-/AOh14GhBVcRQFjmQdAxaGJaaE-teIvm6lX5H7Vcwq-FZ=s64",
      "userId": "10897345993297645160"
     },
     "user_tz": -420
    },
    "id": "5cZJrtRe6coC",
    "outputId": "294bb308-953d-4023-e377-cb24b2f17476"
   },
   "outputs": [
    {
     "data": {
      "text/html": [
       "<div>\n",
       "<style scoped>\n",
       "    .dataframe tbody tr th:only-of-type {\n",
       "        vertical-align: middle;\n",
       "    }\n",
       "\n",
       "    .dataframe tbody tr th {\n",
       "        vertical-align: top;\n",
       "    }\n",
       "\n",
       "    .dataframe thead th {\n",
       "        text-align: right;\n",
       "    }\n",
       "</style>\n",
       "<table border=\"1\" class=\"dataframe\">\n",
       "  <thead>\n",
       "    <tr style=\"text-align: right;\">\n",
       "      <th></th>\n",
       "      <th>host_id</th>\n",
       "    </tr>\n",
       "    <tr>\n",
       "      <th>room_id</th>\n",
       "      <th></th>\n",
       "    </tr>\n",
       "  </thead>\n",
       "  <tbody>\n",
       "    <tr>\n",
       "      <th>2539</th>\n",
       "      <td>2787</td>\n",
       "    </tr>\n",
       "    <tr>\n",
       "      <th>2595</th>\n",
       "      <td>2845</td>\n",
       "    </tr>\n",
       "    <tr>\n",
       "      <th>3647</th>\n",
       "      <td>4632</td>\n",
       "    </tr>\n",
       "    <tr>\n",
       "      <th>3831</th>\n",
       "      <td>4869</td>\n",
       "    </tr>\n",
       "    <tr>\n",
       "      <th>5022</th>\n",
       "      <td>7192</td>\n",
       "    </tr>\n",
       "  </tbody>\n",
       "</table>\n",
       "</div>"
      ],
      "text/plain": [
       "         host_id\n",
       "room_id         \n",
       "2539        2787\n",
       "2595        2845\n",
       "3647        4632\n",
       "3831        4869\n",
       "5022        7192"
      ]
     },
     "execution_count": 25,
     "metadata": {
      "tags": []
     },
     "output_type": "execute_result"
    }
   ],
   "source": [
    "# Doing\n",
    "import requests\n",
    "api = requests.get(\"https://wwry.net/deapi/api.php\",\n",
    "                   headers={'User-Agent': 'Mozilla/5.0 (Windows NT 6.2; Win64; x64) AppleWebKit/537.36 (KHTML, like Gecko) Chrome/32.0.1667.0 Safari/537.36'})\n",
    "df = pd.DataFrame(api.json()[\"data\"]).drop(columns=[\"index\"])\n",
    "df.set_index(\"room_id\", inplace=True)\n",
    "df.head()"
   ]
  },
  {
   "cell_type": "markdown",
   "metadata": {
    "id": "cPc_jwDLdocN"
   },
   "source": [
    "# ดึงข้อมูลจาก webpage"
   ]
  },
  {
   "cell_type": "markdown",
   "metadata": {
    "id": "bPEyrqG-ds0n"
   },
   "source": [
    "ให้นักศึกษาเขียนโค้ดเพื่อดึงข้อมูลจาก API ที่กำหนด\n",
    "\n",
    "URL: http://wwry.net/deapi\n",
    "\n",
    "แสดงผลเป็น html ของหน้าเว็บเพจ"
   ]
  },
  {
   "cell_type": "code",
   "execution_count": null,
   "metadata": {
    "colab": {
     "base_uri": "https://localhost:8080/"
    },
    "executionInfo": {
     "elapsed": 2848,
     "status": "ok",
     "timestamp": 1616248681028,
     "user": {
      "displayName": "Warunya Wunnasri",
      "photoUrl": "https://lh3.googleusercontent.com/a-/AOh14GjJhMcMXktp58JyzX_oFg1bYUNgMXy4GEH6LBFB=s64",
      "userId": "00897604730220330760"
     },
     "user_tz": -420
    },
    "id": "JW5OM5EoiTON",
    "outputId": "074eb414-9010-4000-885f-5bd6cc7e8c26"
   },
   "outputs": [
    {
     "name": "stdout",
     "output_type": "stream",
     "text": [
      "<!DOCTYPE html>\n",
      "\n",
      "<html lang=\"en\">\n",
      "<head>\n",
      "<title>List of Our Host</title>\n",
      "<meta charset=\"utf-8\"/>\n",
      "<meta content=\"width=device-width, initial-scale=1\" name=\"viewport\"/>\n",
      "<!--===============================================================================================-->\n",
      "<link href=\"table/images/icons/favicon.ico\" rel=\"icon\" type=\"image/png\"/>\n",
      "<!--===============================================================================================-->\n",
      "<link href=\"table/vendor/bootstrap/css/bootstrap.min.css\" rel=\"stylesheet\" type=\"text/css\"/>\n",
      "<!--===============================================================================================-->\n",
      "<link href=\"table/fonts/font-awesome-4.7.0/css/font-awesome.min.css\" rel=\"stylesheet\" type=\"text/css\"/>\n",
      "<!--===============================================================================================-->\n",
      "<link href=\"table/vendor/animate/animate.css\" rel=\"stylesheet\" type=\"text/css\"/>\n",
      "<!--===============================================================================================-->\n",
      "<link href=\"table/vendor/select2/select2.min.css\" rel=\"stylesheet\" type=\"text/css\"/>\n",
      "<!--===============================================================================================-->\n",
      "<link href=\"table/vendor/perfect-scrollbar/perfect-scrollbar.css\" rel=\"stylesheet\" type=\"text/css\"/>\n",
      "<!--===============================================================================================-->\n",
      "<link href=\"table/css/util.css\" rel=\"stylesheet\" type=\"text/css\"/>\n",
      "<link href=\"table/css/main.css\" rel=\"stylesheet\" type=\"text/css\"/>\n",
      "<!--===============================================================================================-->\n",
      "</head>\n",
      "<body>\n",
      "<div class=\"limiter\">\n",
      "<div class=\"container-table100\">\n",
      "<div class=\"wrap-table100\">\n",
      "<div class=\"table\">\n",
      "<div class=\"row header\">\n",
      "<div class=\"cell\" style=\"text-align:center\">\n",
      "\t\t\t\t\t\t\t\tPage\n",
      "\t\t\t\t\t\t\t</div>\n",
      "</div>\n",
      "<div class=\"row\"><div class=\"cell\" data-title=\"page\" style=\"text-align:center\"><a href=\"host.php?page=1\"> Page 1 </a></div></div><div class=\"row\"><div class=\"cell\" data-title=\"page\" style=\"text-align:center\"><a href=\"host.php?page=2\"> Page 2 </a></div></div><div class=\"row\"><div class=\"cell\" data-title=\"page\" style=\"text-align:center\"><a href=\"host.php?page=3\"> Page 3 </a></div></div><div class=\"row\"><div class=\"cell\" data-title=\"page\" style=\"text-align:center\"><a href=\"host.php?page=4\"> Page 4 </a></div></div><div class=\"row\"><div class=\"cell\" data-title=\"page\" style=\"text-align:center\"><a href=\"host.php?page=5\"> Page 5 </a></div></div><div class=\"row\"><div class=\"cell\" data-title=\"page\" style=\"text-align:center\"><a href=\"host.php?page=6\"> Page 6 </a></div></div><div class=\"row\"><div class=\"cell\" data-title=\"page\" style=\"text-align:center\"><a href=\"host.php?page=7\"> Page 7 </a></div></div><div class=\"row\"><div class=\"cell\" data-title=\"page\" style=\"text-align:center\"><a href=\"host.php?page=8\"> Page 8 </a></div></div>\n",
      "</div>\n",
      "</div>\n",
      "</div>\n",
      "</div>\n",
      "<!--===============================================================================================-->\n",
      "<script src=\"table/vendor/jquery/jquery-3.2.1.min.js\"></script>\n",
      "<!--===============================================================================================-->\n",
      "<script src=\"table/vendor/bootstrap/js/popper.js\"></script>\n",
      "<script src=\"table/vendor/bootstrap/js/bootstrap.min.js\"></script>\n",
      "<!--===============================================================================================-->\n",
      "<script src=\"table/vendor/select2/select2.min.js\"></script>\n",
      "<!--===============================================================================================-->\n",
      "<script src=\"table/js/main.js\"></script>\n",
      "</body>\n",
      "</html>\n"
     ]
    }
   ],
   "source": [
    "# === Expected Output ==="
   ]
  },
  {
   "cell_type": "markdown",
   "metadata": {
    "id": "-0Cr1FoXkUdt"
   },
   "source": [
    "ให้นักศึกษาเขียนโค้ดเพื่อนำ link ทั้งหมดออกมาจากหน้าเว็บ"
   ]
  },
  {
   "cell_type": "code",
   "execution_count": null,
   "metadata": {
    "colab": {
     "base_uri": "https://localhost:8080/"
    },
    "executionInfo": {
     "elapsed": 843,
     "status": "ok",
     "timestamp": 1616248692298,
     "user": {
      "displayName": "Warunya Wunnasri",
      "photoUrl": "https://lh3.googleusercontent.com/a-/AOh14GjJhMcMXktp58JyzX_oFg1bYUNgMXy4GEH6LBFB=s64",
      "userId": "00897604730220330760"
     },
     "user_tz": -420
    },
    "id": "uWhpwPmmkZHv",
    "outputId": "0e82918b-7682-48b4-88dc-39d145b9fcb9"
   },
   "outputs": [
    {
     "name": "stdout",
     "output_type": "stream",
     "text": [
      "[<a href=\"host.php?page=1\"> Page 1 </a>, <a href=\"host.php?page=2\"> Page 2 </a>, <a href=\"host.php?page=3\"> Page 3 </a>, <a href=\"host.php?page=4\"> Page 4 </a>, <a href=\"host.php?page=5\"> Page 5 </a>, <a href=\"host.php?page=6\"> Page 6 </a>, <a href=\"host.php?page=7\"> Page 7 </a>, <a href=\"host.php?page=8\"> Page 8 </a>]\n"
     ]
    }
   ],
   "source": [
    "# === Expected Output ==="
   ]
  },
  {
   "cell_type": "markdown",
   "metadata": {
    "id": "Ep7qWqmq8sVm"
   },
   "source": [
    "ทดสอบเขียนโค้ดเพื่อดึงข้อมูลจากหน้าเว็บ 1 หน้า\n",
    "\n",
    "เช่น url http://wwry.net/deapi/host.php?page=1"
   ]
  },
  {
   "cell_type": "code",
   "execution_count": null,
   "metadata": {
    "colab": {
     "base_uri": "https://localhost:8080/",
     "height": 450
    },
    "executionInfo": {
     "elapsed": 5594,
     "status": "ok",
     "timestamp": 1617018781982,
     "user": {
      "displayName": "Warunya Wunnasri",
      "photoUrl": "https://lh3.googleusercontent.com/a-/AOh14GjJhMcMXktp58JyzX_oFg1bYUNgMXy4GEH6LBFB=s64",
      "userId": "00897604730220330760"
     },
     "user_tz": -420
    },
    "id": "ZICV-8Fu85WA",
    "outputId": "835d86fa-f135-4fb4-80c0-11d9af4e5d37"
   },
   "outputs": [
    {
     "data": {
      "text/html": [
       "<div>\n",
       "<style scoped>\n",
       "    .dataframe tbody tr th:only-of-type {\n",
       "        vertical-align: middle;\n",
       "    }\n",
       "\n",
       "    .dataframe tbody tr th {\n",
       "        vertical-align: top;\n",
       "    }\n",
       "\n",
       "    .dataframe thead th {\n",
       "        text-align: right;\n",
       "    }\n",
       "</style>\n",
       "<table border=\"1\" class=\"dataframe\">\n",
       "  <thead>\n",
       "    <tr style=\"text-align: right;\">\n",
       "      <th></th>\n",
       "      <th>host_name</th>\n",
       "      <th>number_of_room</th>\n",
       "    </tr>\n",
       "    <tr>\n",
       "      <th>host_id</th>\n",
       "      <th></th>\n",
       "      <th></th>\n",
       "    </tr>\n",
       "  </thead>\n",
       "  <tbody>\n",
       "    <tr>\n",
       "      <th>2438</th>\n",
       "      <td>Tasos</td>\n",
       "      <td>1</td>\n",
       "    </tr>\n",
       "    <tr>\n",
       "      <th>2571</th>\n",
       "      <td>Teedo</td>\n",
       "      <td>1</td>\n",
       "    </tr>\n",
       "    <tr>\n",
       "      <th>2787</th>\n",
       "      <td>John</td>\n",
       "      <td>6</td>\n",
       "    </tr>\n",
       "    <tr>\n",
       "      <th>2845</th>\n",
       "      <td>Jennifer</td>\n",
       "      <td>2</td>\n",
       "    </tr>\n",
       "    <tr>\n",
       "      <th>2868</th>\n",
       "      <td>Letha M.</td>\n",
       "      <td>1</td>\n",
       "    </tr>\n",
       "    <tr>\n",
       "      <th>...</th>\n",
       "      <td>...</td>\n",
       "      <td>...</td>\n",
       "    </tr>\n",
       "    <tr>\n",
       "      <th>2801328</th>\n",
       "      <td>Ben</td>\n",
       "      <td>2</td>\n",
       "    </tr>\n",
       "    <tr>\n",
       "      <th>2801522</th>\n",
       "      <td>Alina</td>\n",
       "      <td>1</td>\n",
       "    </tr>\n",
       "    <tr>\n",
       "      <th>2801739</th>\n",
       "      <td>Alysha</td>\n",
       "      <td>1</td>\n",
       "    </tr>\n",
       "    <tr>\n",
       "      <th>2802223</th>\n",
       "      <td>Raluca</td>\n",
       "      <td>2</td>\n",
       "    </tr>\n",
       "    <tr>\n",
       "      <th>2802251</th>\n",
       "      <td>Cansu</td>\n",
       "      <td>1</td>\n",
       "    </tr>\n",
       "  </tbody>\n",
       "</table>\n",
       "<p>5000 rows × 2 columns</p>\n",
       "</div>"
      ],
      "text/plain": [
       "        host_name number_of_room\n",
       "host_id                         \n",
       "2438        Tasos              1\n",
       "2571        Teedo              1\n",
       "2787         John              6\n",
       "2845     Jennifer              2\n",
       "2868     Letha M.              1\n",
       "...           ...            ...\n",
       "2801328       Ben              2\n",
       "2801522     Alina              1\n",
       "2801739    Alysha              1\n",
       "2802223    Raluca              2\n",
       "2802251     Cansu              1\n",
       "\n",
       "[5000 rows x 2 columns]"
      ]
     },
     "execution_count": 1,
     "metadata": {
      "tags": []
     },
     "output_type": "execute_result"
    }
   ],
   "source": [
    "# === Expected Output ==="
   ]
  },
  {
   "cell_type": "markdown",
   "metadata": {
    "id": "mGjgOYu-km7a"
   },
   "source": [
    "ให้นักศึกษาเขียนโค้ดเพื่อเข้าถึงหน้าเว็บแต่ละเว็บใน list เพื่อนำ host_id, host_name, และ number_of_room มาสร้างเป็น DataFrame"
   ]
  },
  {
   "cell_type": "code",
   "execution_count": null,
   "metadata": {
    "colab": {
     "base_uri": "https://localhost:8080/",
     "height": 586
    },
    "executionInfo": {
     "elapsed": 76892,
     "status": "ok",
     "timestamp": 1617019020204,
     "user": {
      "displayName": "Warunya Wunnasri",
      "photoUrl": "https://lh3.googleusercontent.com/a-/AOh14GjJhMcMXktp58JyzX_oFg1bYUNgMXy4GEH6LBFB=s64",
      "userId": "00897604730220330760"
     },
     "user_tz": -420
    },
    "id": "p_l_WVUwk3tg",
    "outputId": "ad32e4be-08be-4a76-d3f4-f244517cd529"
   },
   "outputs": [
    {
     "name": "stdout",
     "output_type": "stream",
     "text": [
      "collecting data from http://wwry.net/deapi/host.php?page=1 .. \n",
      "collecting data from http://wwry.net/deapi/host.php?page=2 .. \n",
      "collecting data from http://wwry.net/deapi/host.php?page=3 .. \n",
      "collecting data from http://wwry.net/deapi/host.php?page=4 .. \n",
      "collecting data from http://wwry.net/deapi/host.php?page=5 .. \n",
      "collecting data from http://wwry.net/deapi/host.php?page=6 .. \n",
      "collecting data from http://wwry.net/deapi/host.php?page=7 .. \n",
      "collecting data from http://wwry.net/deapi/host.php?page=8 .. \n"
     ]
    },
    {
     "data": {
      "text/html": [
       "<div>\n",
       "<style scoped>\n",
       "    .dataframe tbody tr th:only-of-type {\n",
       "        vertical-align: middle;\n",
       "    }\n",
       "\n",
       "    .dataframe tbody tr th {\n",
       "        vertical-align: top;\n",
       "    }\n",
       "\n",
       "    .dataframe thead th {\n",
       "        text-align: right;\n",
       "    }\n",
       "</style>\n",
       "<table border=\"1\" class=\"dataframe\">\n",
       "  <thead>\n",
       "    <tr style=\"text-align: right;\">\n",
       "      <th></th>\n",
       "      <th>host_name</th>\n",
       "      <th>number_of_room</th>\n",
       "    </tr>\n",
       "    <tr>\n",
       "      <th>host_id</th>\n",
       "      <th></th>\n",
       "      <th></th>\n",
       "    </tr>\n",
       "  </thead>\n",
       "  <tbody>\n",
       "    <tr>\n",
       "      <th>2438</th>\n",
       "      <td>Tasos</td>\n",
       "      <td>1</td>\n",
       "    </tr>\n",
       "    <tr>\n",
       "      <th>2571</th>\n",
       "      <td>Teedo</td>\n",
       "      <td>1</td>\n",
       "    </tr>\n",
       "    <tr>\n",
       "      <th>2787</th>\n",
       "      <td>John</td>\n",
       "      <td>6</td>\n",
       "    </tr>\n",
       "    <tr>\n",
       "      <th>2845</th>\n",
       "      <td>Jennifer</td>\n",
       "      <td>2</td>\n",
       "    </tr>\n",
       "    <tr>\n",
       "      <th>2868</th>\n",
       "      <td>Letha M.</td>\n",
       "      <td>1</td>\n",
       "    </tr>\n",
       "    <tr>\n",
       "      <th>...</th>\n",
       "      <td>...</td>\n",
       "      <td>...</td>\n",
       "    </tr>\n",
       "    <tr>\n",
       "      <th>274273284</th>\n",
       "      <td>Anastasia</td>\n",
       "      <td>1</td>\n",
       "    </tr>\n",
       "    <tr>\n",
       "      <th>274298453</th>\n",
       "      <td>Adrien</td>\n",
       "      <td>1</td>\n",
       "    </tr>\n",
       "    <tr>\n",
       "      <th>274307600</th>\n",
       "      <td>Jonathan</td>\n",
       "      <td>1</td>\n",
       "    </tr>\n",
       "    <tr>\n",
       "      <th>274311461</th>\n",
       "      <td>Scott</td>\n",
       "      <td>1</td>\n",
       "    </tr>\n",
       "    <tr>\n",
       "      <th>274321313</th>\n",
       "      <td>Kat</td>\n",
       "      <td>1</td>\n",
       "    </tr>\n",
       "  </tbody>\n",
       "</table>\n",
       "<p>37457 rows × 2 columns</p>\n",
       "</div>"
      ],
      "text/plain": [
       "           host_name number_of_room\n",
       "host_id                            \n",
       "2438           Tasos              1\n",
       "2571           Teedo              1\n",
       "2787            John              6\n",
       "2845        Jennifer              2\n",
       "2868        Letha M.              1\n",
       "...              ...            ...\n",
       "274273284  Anastasia              1\n",
       "274298453     Adrien              1\n",
       "274307600   Jonathan              1\n",
       "274311461      Scott              1\n",
       "274321313        Kat              1\n",
       "\n",
       "[37457 rows x 2 columns]"
      ]
     },
     "execution_count": 2,
     "metadata": {
      "tags": []
     },
     "output_type": "execute_result"
    }
   ],
   "source": [
    "# === Expected Output ==="
   ]
  },
  {
   "cell_type": "code",
   "execution_count": 47,
   "metadata": {
    "pycharm": {
     "name": "#%%\n"
    }
   },
   "outputs": [
    {
     "data": {
      "text/html": [
       "<div>\n",
       "<style scoped>\n",
       "    .dataframe tbody tr th:only-of-type {\n",
       "        vertical-align: middle;\n",
       "    }\n",
       "\n",
       "    .dataframe tbody tr th {\n",
       "        vertical-align: top;\n",
       "    }\n",
       "\n",
       "    .dataframe thead th {\n",
       "        text-align: right;\n",
       "    }\n",
       "</style>\n",
       "<table border=\"1\" class=\"dataframe\">\n",
       "  <thead>\n",
       "    <tr style=\"text-align: right;\">\n",
       "      <th></th>\n",
       "      <th>Host ID</th>\n",
       "      <th>Host Name</th>\n",
       "      <th>the Number of Room</th>\n",
       "    </tr>\n",
       "  </thead>\n",
       "  <tbody>\n",
       "    <tr>\n",
       "      <th>0</th>\n",
       "      <td>2438</td>\n",
       "      <td>Tasos</td>\n",
       "      <td>1</td>\n",
       "    </tr>\n",
       "    <tr>\n",
       "      <th>1</th>\n",
       "      <td>2571</td>\n",
       "      <td>Teedo</td>\n",
       "      <td>1</td>\n",
       "    </tr>\n",
       "    <tr>\n",
       "      <th>2</th>\n",
       "      <td>2787</td>\n",
       "      <td>John</td>\n",
       "      <td>6</td>\n",
       "    </tr>\n",
       "    <tr>\n",
       "      <th>3</th>\n",
       "      <td>2845</td>\n",
       "      <td>Jennifer</td>\n",
       "      <td>2</td>\n",
       "    </tr>\n",
       "    <tr>\n",
       "      <th>4</th>\n",
       "      <td>2868</td>\n",
       "      <td>Letha M.</td>\n",
       "      <td>1</td>\n",
       "    </tr>\n",
       "    <tr>\n",
       "      <th>...</th>\n",
       "      <td>...</td>\n",
       "      <td>...</td>\n",
       "      <td>...</td>\n",
       "    </tr>\n",
       "    <tr>\n",
       "      <th>37452</th>\n",
       "      <td>274273284</td>\n",
       "      <td>Anastasia</td>\n",
       "      <td>1</td>\n",
       "    </tr>\n",
       "    <tr>\n",
       "      <th>37453</th>\n",
       "      <td>274298453</td>\n",
       "      <td>Adrien</td>\n",
       "      <td>1</td>\n",
       "    </tr>\n",
       "    <tr>\n",
       "      <th>37454</th>\n",
       "      <td>274307600</td>\n",
       "      <td>Jonathan</td>\n",
       "      <td>1</td>\n",
       "    </tr>\n",
       "    <tr>\n",
       "      <th>37455</th>\n",
       "      <td>274311461</td>\n",
       "      <td>Scott</td>\n",
       "      <td>1</td>\n",
       "    </tr>\n",
       "    <tr>\n",
       "      <th>37456</th>\n",
       "      <td>274321313</td>\n",
       "      <td>Kat</td>\n",
       "      <td>1</td>\n",
       "    </tr>\n",
       "  </tbody>\n",
       "</table>\n",
       "<p>37457 rows × 3 columns</p>\n",
       "</div>"
      ],
      "text/plain": [
       "         Host ID  Host Name the Number of Room\n",
       "0           2438      Tasos                  1\n",
       "1           2571      Teedo                  1\n",
       "2           2787       John                  6\n",
       "3           2845   Jennifer                  2\n",
       "4           2868   Letha M.                  1\n",
       "...          ...        ...                ...\n",
       "37452  274273284  Anastasia                  1\n",
       "37453  274298453     Adrien                  1\n",
       "37454  274307600   Jonathan                  1\n",
       "37455  274311461      Scott                  1\n",
       "37456  274321313        Kat                  1\n",
       "\n",
       "[37457 rows x 3 columns]"
      ]
     },
     "execution_count": 47,
     "metadata": {},
     "output_type": "execute_result"
    }
   ],
   "source": [
    "# Doing\n",
    "import requests\n",
    "from time import sleep\n",
    "from pandas import DataFrame, concat\n",
    "from bs4 import BeautifulSoup\n",
    "links = \"https://wwry.net/deapi\"\n",
    "req = requests.get(links, headers={'User-Agent': 'Mozilla/5.0 (Windows NT 6.2; Win64; x64) AppleWebKit/537.36 (KHTML, like Gecko) Chrome/32.0.1667.0 Safari/537.36'})\n",
    "data = BeautifulSoup(req.text, 'html.parser').find_all(\"div\", {\"class\": \"cell\",\n",
    "                                                               \"data-title\": \"page\"})\n",
    "\n",
    "group_df = []\n",
    "for div in data:\n",
    "    tmp = div.find(\"a\")\n",
    "    title, link = tmp.text, tmp[\"href\"]\n",
    "    inside_link = f\"{links}/{link}\"\n",
    "\n",
    "    req = requests.get(inside_link, headers={'User-Agent': 'Mozilla/5.0 (Windows NT 6.2; Win64; x64) AppleWebKit/537.36 (KHTML, like Gecko) Chrome/32.0.1667.0 Safari/537.36'})\n",
    "    data = BeautifulSoup(req.text, 'html.parser').find(\"div\", {\"class\": \"table\"})\n",
    "    header = [ head.text.strip() for head in data.find(\"div\", {\"class\": \"row header\"}).find_all(\"div\", {\"class\": \"cell\"})]\n",
    "    prepare = []\n",
    "\n",
    "    for info in data.find_all(\"div\", {\"class\": \"row content\"}):\n",
    "        pattern = lambda x: eval('info.find(\"div\", {\"data-title\": \"'+x+'\"}).text')\n",
    "        prepare.append({\n",
    "            \"count\": pattern(\"count\"),\n",
    "            \"id\": pattern(\"id\"),\n",
    "            \"name\": pattern(\"name\"),\n",
    "            \"no\": pattern(\"no\")\n",
    "        })\n",
    "\n",
    "    df = DataFrame(prepare)\n",
    "    df.columns = header\n",
    "    df.set_index(header[0], inplace=True)\n",
    "    group_df.append(df)\n",
    "    sleep(5)\n",
    "\n",
    "data_web = concat(group_df, ignore_index=True).drop_duplicates(keep=\"first\")\n",
    "data_web"
   ]
  },
  {
   "cell_type": "markdown",
   "metadata": {
    "id": "7Q3-3NWsu-ZC"
   },
   "source": [
    "# Data Integration"
   ]
  },
  {
   "cell_type": "markdown",
   "metadata": {
    "id": "tguZZuZcvDmx"
   },
   "source": [
    "เอา 3 DataFrame (s1_data, s2_data, s3_data) มารวมกัน"
   ]
  },
  {
   "cell_type": "code",
   "execution_count": null,
   "metadata": {
    "colab": {
     "base_uri": "https://localhost:8080/",
     "height": 767
    },
    "executionInfo": {
     "elapsed": 979,
     "status": "ok",
     "timestamp": 1616246111730,
     "user": {
      "displayName": "Warunya Wunnasri",
      "photoUrl": "https://lh3.googleusercontent.com/a-/AOh14GjJhMcMXktp58JyzX_oFg1bYUNgMXy4GEH6LBFB=s64",
      "userId": "00897604730220330760"
     },
     "user_tz": -420
    },
    "id": "FAFQRWfexEm7",
    "outputId": "47ebb77c-994e-4a97-bab6-eb91c47711ba"
   },
   "outputs": [
    {
     "data": {
      "text/html": [
       "<div>\n",
       "<style scoped>\n",
       "    .dataframe tbody tr th:only-of-type {\n",
       "        vertical-align: middle;\n",
       "    }\n",
       "\n",
       "    .dataframe tbody tr th {\n",
       "        vertical-align: top;\n",
       "    }\n",
       "\n",
       "    .dataframe thead th {\n",
       "        text-align: right;\n",
       "    }\n",
       "</style>\n",
       "<table border=\"1\" class=\"dataframe\">\n",
       "  <thead>\n",
       "    <tr style=\"text-align: right;\">\n",
       "      <th></th>\n",
       "      <th>name</th>\n",
       "      <th>neighbourhood_group</th>\n",
       "      <th>neighbourhood</th>\n",
       "      <th>latitude</th>\n",
       "      <th>longitude</th>\n",
       "      <th>room_type</th>\n",
       "      <th>price</th>\n",
       "      <th>minimum_nights</th>\n",
       "      <th>number_of_reviews</th>\n",
       "      <th>last_review</th>\n",
       "      <th>reviews_per_month</th>\n",
       "      <th>host_id</th>\n",
       "      <th>host_name</th>\n",
       "      <th>number_of_room</th>\n",
       "    </tr>\n",
       "    <tr>\n",
       "      <th>room_id</th>\n",
       "      <th></th>\n",
       "      <th></th>\n",
       "      <th></th>\n",
       "      <th></th>\n",
       "      <th></th>\n",
       "      <th></th>\n",
       "      <th></th>\n",
       "      <th></th>\n",
       "      <th></th>\n",
       "      <th></th>\n",
       "      <th></th>\n",
       "      <th></th>\n",
       "      <th></th>\n",
       "      <th></th>\n",
       "    </tr>\n",
       "  </thead>\n",
       "  <tbody>\n",
       "    <tr>\n",
       "      <th>2539</th>\n",
       "      <td>Clean &amp; quiet apt home by the park</td>\n",
       "      <td>Brooklyn</td>\n",
       "      <td>Kensington</td>\n",
       "      <td>40.64749</td>\n",
       "      <td>-73.97237</td>\n",
       "      <td>Private room</td>\n",
       "      <td>149</td>\n",
       "      <td>1</td>\n",
       "      <td>9</td>\n",
       "      <td>2018-10-19</td>\n",
       "      <td>0.21</td>\n",
       "      <td>2787</td>\n",
       "      <td>John</td>\n",
       "      <td>6</td>\n",
       "    </tr>\n",
       "    <tr>\n",
       "      <th>7937553</th>\n",
       "      <td>Riomaggiore Room. Queen Bedroom in Bklyn Townh...</td>\n",
       "      <td>Brooklyn</td>\n",
       "      <td>Bensonhurst</td>\n",
       "      <td>40.60951</td>\n",
       "      <td>-73.97622</td>\n",
       "      <td>Private room</td>\n",
       "      <td>99</td>\n",
       "      <td>1</td>\n",
       "      <td>21</td>\n",
       "      <td>2018-10-27</td>\n",
       "      <td>0.50</td>\n",
       "      <td>2787</td>\n",
       "      <td>John</td>\n",
       "      <td>6</td>\n",
       "    </tr>\n",
       "    <tr>\n",
       "      <th>10160215</th>\n",
       "      <td>Torre del Lago Room.</td>\n",
       "      <td>Brooklyn</td>\n",
       "      <td>Gravesend</td>\n",
       "      <td>40.60755</td>\n",
       "      <td>-73.97410</td>\n",
       "      <td>Private room</td>\n",
       "      <td>79</td>\n",
       "      <td>1</td>\n",
       "      <td>17</td>\n",
       "      <td>2019-06-26</td>\n",
       "      <td>0.40</td>\n",
       "      <td>2787</td>\n",
       "      <td>John</td>\n",
       "      <td>6</td>\n",
       "    </tr>\n",
       "    <tr>\n",
       "      <th>10267242</th>\n",
       "      <td>Cinque Terre Room.  Clean and Quiet Queen Bedroom</td>\n",
       "      <td>Brooklyn</td>\n",
       "      <td>Gravesend</td>\n",
       "      <td>40.60810</td>\n",
       "      <td>-73.97541</td>\n",
       "      <td>Private room</td>\n",
       "      <td>149</td>\n",
       "      <td>1</td>\n",
       "      <td>24</td>\n",
       "      <td>2019-05-11</td>\n",
       "      <td>0.64</td>\n",
       "      <td>2787</td>\n",
       "      <td>John</td>\n",
       "      <td>6</td>\n",
       "    </tr>\n",
       "    <tr>\n",
       "      <th>10593675</th>\n",
       "      <td>La Spezia room.  Clean, quiet and comfortable bed</td>\n",
       "      <td>Brooklyn</td>\n",
       "      <td>Bensonhurst</td>\n",
       "      <td>40.60951</td>\n",
       "      <td>-73.97642</td>\n",
       "      <td>Shared room</td>\n",
       "      <td>79</td>\n",
       "      <td>1</td>\n",
       "      <td>15</td>\n",
       "      <td>2018-09-29</td>\n",
       "      <td>0.43</td>\n",
       "      <td>2787</td>\n",
       "      <td>John</td>\n",
       "      <td>6</td>\n",
       "    </tr>\n",
       "    <tr>\n",
       "      <th>17263207</th>\n",
       "      <td>Brooklyn home.  Comfort and clean. Liguria room.</td>\n",
       "      <td>Brooklyn</td>\n",
       "      <td>Bensonhurst</td>\n",
       "      <td>40.60877</td>\n",
       "      <td>-73.97382</td>\n",
       "      <td>Private room</td>\n",
       "      <td>49</td>\n",
       "      <td>1</td>\n",
       "      <td>19</td>\n",
       "      <td>2019-06-08</td>\n",
       "      <td>0.70</td>\n",
       "      <td>2787</td>\n",
       "      <td>John</td>\n",
       "      <td>6</td>\n",
       "    </tr>\n",
       "    <tr>\n",
       "      <th>2595</th>\n",
       "      <td>Skylit Midtown Castle</td>\n",
       "      <td>Manhattan</td>\n",
       "      <td>Midtown</td>\n",
       "      <td>40.75362</td>\n",
       "      <td>-73.98377</td>\n",
       "      <td>Entire home/apt</td>\n",
       "      <td>225</td>\n",
       "      <td>1</td>\n",
       "      <td>45</td>\n",
       "      <td>2019-05-21</td>\n",
       "      <td>0.38</td>\n",
       "      <td>2845</td>\n",
       "      <td>Jennifer</td>\n",
       "      <td>2</td>\n",
       "    </tr>\n",
       "    <tr>\n",
       "      <th>18393354</th>\n",
       "      <td>Midtown Sanctuary</td>\n",
       "      <td>Manhattan</td>\n",
       "      <td>Midtown</td>\n",
       "      <td>40.75358</td>\n",
       "      <td>-73.99190</td>\n",
       "      <td>Shared room</td>\n",
       "      <td>99</td>\n",
       "      <td>1</td>\n",
       "      <td>1</td>\n",
       "      <td>2018-07-18</td>\n",
       "      <td>0.08</td>\n",
       "      <td>2845</td>\n",
       "      <td>Jennifer</td>\n",
       "      <td>2</td>\n",
       "    </tr>\n",
       "    <tr>\n",
       "      <th>3647</th>\n",
       "      <td>THE VILLAGE OF HARLEM....NEW YORK !</td>\n",
       "      <td>Manhattan</td>\n",
       "      <td>Harlem</td>\n",
       "      <td>40.80902</td>\n",
       "      <td>-73.94190</td>\n",
       "      <td>Private room</td>\n",
       "      <td>150</td>\n",
       "      <td>3</td>\n",
       "      <td>0</td>\n",
       "      <td>NaN</td>\n",
       "      <td>NaN</td>\n",
       "      <td>4632</td>\n",
       "      <td>Elisabeth</td>\n",
       "      <td>1</td>\n",
       "    </tr>\n",
       "    <tr>\n",
       "      <th>3831</th>\n",
       "      <td>Cozy Entire Floor of Brownstone</td>\n",
       "      <td>Brooklyn</td>\n",
       "      <td>Clinton Hill</td>\n",
       "      <td>40.68514</td>\n",
       "      <td>-73.95976</td>\n",
       "      <td>Entire home/apt</td>\n",
       "      <td>89</td>\n",
       "      <td>1</td>\n",
       "      <td>270</td>\n",
       "      <td>2019-07-05</td>\n",
       "      <td>4.64</td>\n",
       "      <td>4869</td>\n",
       "      <td>LisaRoxanne</td>\n",
       "      <td>1</td>\n",
       "    </tr>\n",
       "  </tbody>\n",
       "</table>\n",
       "</div>"
      ],
      "text/plain": [
       "                                                       name  ... number_of_room\n",
       "room_id                                                      ...               \n",
       "2539                     Clean & quiet apt home by the park  ...              6\n",
       "7937553   Riomaggiore Room. Queen Bedroom in Bklyn Townh...  ...              6\n",
       "10160215                               Torre del Lago Room.  ...              6\n",
       "10267242  Cinque Terre Room.  Clean and Quiet Queen Bedroom  ...              6\n",
       "10593675  La Spezia room.  Clean, quiet and comfortable bed  ...              6\n",
       "17263207   Brooklyn home.  Comfort and clean. Liguria room.  ...              6\n",
       "2595                                  Skylit Midtown Castle  ...              2\n",
       "18393354                                  Midtown Sanctuary  ...              2\n",
       "3647                    THE VILLAGE OF HARLEM....NEW YORK !  ...              1\n",
       "3831                        Cozy Entire Floor of Brownstone  ...              1\n",
       "\n",
       "[10 rows x 14 columns]"
      ]
     },
     "execution_count": 22,
     "metadata": {
      "tags": []
     },
     "output_type": "execute_result"
    }
   ],
   "source": [
    "# === Expected Output ==="
   ]
  },
  {
   "cell_type": "markdown",
   "metadata": {
    "id": "JbaJh8B42RYZ"
   },
   "source": [
    "# Exporting Data"
   ]
  },
  {
   "cell_type": "markdown",
   "metadata": {
    "id": "5-3Mp5hP2TjP"
   },
   "source": [
    "บันทึกไฟล์เป็น all_data.csv "
   ]
  },
  {
   "cell_type": "code",
   "execution_count": null,
   "metadata": {
    "id": "LZJPpNEy2Y5a"
   },
   "outputs": [],
   "source": [
    "merge_df.to_csv(\"all_data.csv\")"
   ]
  },
  {
   "cell_type": "markdown",
   "metadata": {
    "id": "tROhTD3F9ym-"
   },
   "source": [
    "ไฟล์ที่ export จะอยู่ที่แถบเมนูทางด้านซ้ายมือ\n",
    "\n",
    "<<< \n",
    "\n",
    "icon \"File\" ลำดับที่ 3 ต่อจาก table of contents และ code snippets pane"
   ]
  },
  {
   "cell_type": "markdown",
   "metadata": {
    "id": "PHtqWDu4x-Wt"
   },
   "source": [
    "# Data Cleansing"
   ]
  },
  {
   "cell_type": "markdown",
   "metadata": {
    "id": "Ob2_bJ9AyB1X"
   },
   "source": [
    "Download file AB_NYC_2019.csv\n",
    "\n",
    "https://drive.google.com/file/d/1aLqSIpGE_nXMm7dWl1b6U1n4J0v7aVdL"
   ]
  },
  {
   "cell_type": "code",
   "execution_count": null,
   "metadata": {
    "id": "eMWg0yG5yITG"
   },
   "outputs": [],
   "source": [
    "!gdown --id 1aLqSIpGE_nXMm7dWl1b6U1n4J0v7aVdL"
   ]
  },
  {
   "cell_type": "markdown",
   "metadata": {
    "id": "gKl90BF9yLzR"
   },
   "source": [
    "อ่านไฟล์โดย read_csv"
   ]
  },
  {
   "cell_type": "code",
   "execution_count": null,
   "metadata": {
    "colab": {
     "base_uri": "https://localhost:8080/",
     "height": 445
    },
    "executionInfo": {
     "elapsed": 808,
     "status": "ok",
     "timestamp": 1616247591432,
     "user": {
      "displayName": "Warunya Wunnasri",
      "photoUrl": "https://lh3.googleusercontent.com/a-/AOh14GjJhMcMXktp58JyzX_oFg1bYUNgMXy4GEH6LBFB=s64",
      "userId": "00897604730220330760"
     },
     "user_tz": -420
    },
    "id": "bnHiG7c4yMmn",
    "outputId": "c735a413-fff7-4965-e2e7-c9e0bd9c7be5"
   },
   "outputs": [
    {
     "name": "stderr",
     "output_type": "stream",
     "text": [
      "/usr/local/lib/python3.7/dist-packages/IPython/core/interactiveshell.py:2718: DtypeWarning: Columns (9) have mixed types.Specify dtype option on import or set low_memory=False.\n",
      "  interactivity=interactivity, compiler=compiler, result=result)\n"
     ]
    },
    {
     "data": {
      "text/html": [
       "<div>\n",
       "<style scoped>\n",
       "    .dataframe tbody tr th:only-of-type {\n",
       "        vertical-align: middle;\n",
       "    }\n",
       "\n",
       "    .dataframe tbody tr th {\n",
       "        vertical-align: top;\n",
       "    }\n",
       "\n",
       "    .dataframe thead th {\n",
       "        text-align: right;\n",
       "    }\n",
       "</style>\n",
       "<table border=\"1\" class=\"dataframe\">\n",
       "  <thead>\n",
       "    <tr style=\"text-align: right;\">\n",
       "      <th></th>\n",
       "      <th>id</th>\n",
       "      <th>name</th>\n",
       "      <th>host_id</th>\n",
       "      <th>host_name</th>\n",
       "      <th>neighbourhood_group</th>\n",
       "      <th>neighbourhood</th>\n",
       "      <th>latitude</th>\n",
       "      <th>longitude</th>\n",
       "      <th>room_type</th>\n",
       "      <th>price</th>\n",
       "      <th>minimum_nights</th>\n",
       "      <th>number_of_reviews</th>\n",
       "      <th>last_review</th>\n",
       "      <th>reviews_per_month</th>\n",
       "      <th>calculated_host_listings_count</th>\n",
       "      <th>availability_365</th>\n",
       "    </tr>\n",
       "  </thead>\n",
       "  <tbody>\n",
       "    <tr>\n",
       "      <th>0</th>\n",
       "      <td>2539</td>\n",
       "      <td>Clean &amp; quiet apt home by the park</td>\n",
       "      <td>2787</td>\n",
       "      <td>John</td>\n",
       "      <td>Brooklyn</td>\n",
       "      <td>Kensington</td>\n",
       "      <td>40.64749</td>\n",
       "      <td>-73.97237</td>\n",
       "      <td>Private room</td>\n",
       "      <td>149</td>\n",
       "      <td>1</td>\n",
       "      <td>9</td>\n",
       "      <td>2018-10-19</td>\n",
       "      <td>0.21</td>\n",
       "      <td>6</td>\n",
       "      <td>365</td>\n",
       "    </tr>\n",
       "    <tr>\n",
       "      <th>1</th>\n",
       "      <td>2595</td>\n",
       "      <td>Skylit Midtown Castle</td>\n",
       "      <td>2845</td>\n",
       "      <td>Jennifer</td>\n",
       "      <td>Manhattan</td>\n",
       "      <td>Midtown</td>\n",
       "      <td>40.75362</td>\n",
       "      <td>-73.98377</td>\n",
       "      <td>Entire home/apt</td>\n",
       "      <td>225</td>\n",
       "      <td>1</td>\n",
       "      <td>45</td>\n",
       "      <td>2019-05-21</td>\n",
       "      <td>0.38</td>\n",
       "      <td>2</td>\n",
       "      <td>355</td>\n",
       "    </tr>\n",
       "    <tr>\n",
       "      <th>2</th>\n",
       "      <td>3647</td>\n",
       "      <td>THE VILLAGE OF HARLEM....NEW YORK !</td>\n",
       "      <td>4632</td>\n",
       "      <td>Elisabeth</td>\n",
       "      <td>Manhattan</td>\n",
       "      <td>Harlem</td>\n",
       "      <td>40.80902</td>\n",
       "      <td>-73.94190</td>\n",
       "      <td>Private room</td>\n",
       "      <td>150</td>\n",
       "      <td>3</td>\n",
       "      <td>0</td>\n",
       "      <td>NaN</td>\n",
       "      <td>NaN</td>\n",
       "      <td>1</td>\n",
       "      <td>365</td>\n",
       "    </tr>\n",
       "    <tr>\n",
       "      <th>3</th>\n",
       "      <td>3831</td>\n",
       "      <td>Cozy Entire Floor of Brownstone</td>\n",
       "      <td>4869</td>\n",
       "      <td>LisaRoxanne</td>\n",
       "      <td>Brooklyn</td>\n",
       "      <td>Clinton Hill</td>\n",
       "      <td>40.68514</td>\n",
       "      <td>-73.95976</td>\n",
       "      <td>Entire home/apt</td>\n",
       "      <td>89</td>\n",
       "      <td>1</td>\n",
       "      <td>270</td>\n",
       "      <td>2019-07-05</td>\n",
       "      <td>4.64</td>\n",
       "      <td>1</td>\n",
       "      <td>194</td>\n",
       "    </tr>\n",
       "    <tr>\n",
       "      <th>4</th>\n",
       "      <td>5022</td>\n",
       "      <td>Entire Apt: Spacious Studio/Loft by central park</td>\n",
       "      <td>7192</td>\n",
       "      <td>Laura</td>\n",
       "      <td>Manhattan</td>\n",
       "      <td>East Harlem</td>\n",
       "      <td>40.79851</td>\n",
       "      <td>-73.94399</td>\n",
       "      <td>Entire home/apt</td>\n",
       "      <td>80</td>\n",
       "      <td>10</td>\n",
       "      <td>9</td>\n",
       "      <td>2018-11-19</td>\n",
       "      <td>0.10</td>\n",
       "      <td>1</td>\n",
       "      <td>0</td>\n",
       "    </tr>\n",
       "  </tbody>\n",
       "</table>\n",
       "</div>"
      ],
      "text/plain": [
       "     id  ... availability_365\n",
       "0  2539  ...              365\n",
       "1  2595  ...              355\n",
       "2  3647  ...              365\n",
       "3  3831  ...              194\n",
       "4  5022  ...                0\n",
       "\n",
       "[5 rows x 16 columns]"
      ]
     },
     "execution_count": 56,
     "metadata": {
      "tags": []
     },
     "output_type": "execute_result"
    }
   ],
   "source": [
    "# === Expected Output ==="
   ]
  },
  {
   "cell_type": "markdown",
   "metadata": {
    "id": "GveZxTNVySFn"
   },
   "source": [
    "เลือกเฉพาะคอลัมภ์ที่ต้องการจะใช้งาน นั่นคือ\n",
    "\n",
    "id, name, host_id, neighbourhood_group,\n",
    "\n",
    "neighbourhood, room_type, price, minimum_nights, number_of_reviews"
   ]
  },
  {
   "cell_type": "code",
   "execution_count": null,
   "metadata": {
    "colab": {
     "base_uri": "https://localhost:8080/",
     "height": 204
    },
    "executionInfo": {
     "elapsed": 1075,
     "status": "ok",
     "timestamp": 1616247596692,
     "user": {
      "displayName": "Warunya Wunnasri",
      "photoUrl": "https://lh3.googleusercontent.com/a-/AOh14GjJhMcMXktp58JyzX_oFg1bYUNgMXy4GEH6LBFB=s64",
      "userId": "00897604730220330760"
     },
     "user_tz": -420
    },
    "id": "4sTABRIvyXCW",
    "outputId": "631d2d64-c8f5-41e6-d9ec-ed32e435d0ee"
   },
   "outputs": [
    {
     "data": {
      "text/html": [
       "<div>\n",
       "<style scoped>\n",
       "    .dataframe tbody tr th:only-of-type {\n",
       "        vertical-align: middle;\n",
       "    }\n",
       "\n",
       "    .dataframe tbody tr th {\n",
       "        vertical-align: top;\n",
       "    }\n",
       "\n",
       "    .dataframe thead th {\n",
       "        text-align: right;\n",
       "    }\n",
       "</style>\n",
       "<table border=\"1\" class=\"dataframe\">\n",
       "  <thead>\n",
       "    <tr style=\"text-align: right;\">\n",
       "      <th></th>\n",
       "      <th>id</th>\n",
       "      <th>name</th>\n",
       "      <th>host_id</th>\n",
       "      <th>neighbourhood_group</th>\n",
       "      <th>neighbourhood</th>\n",
       "      <th>room_type</th>\n",
       "      <th>price</th>\n",
       "      <th>minimum_nights</th>\n",
       "      <th>number_of_reviews</th>\n",
       "    </tr>\n",
       "  </thead>\n",
       "  <tbody>\n",
       "    <tr>\n",
       "      <th>0</th>\n",
       "      <td>2539</td>\n",
       "      <td>Clean &amp; quiet apt home by the park</td>\n",
       "      <td>2787</td>\n",
       "      <td>Brooklyn</td>\n",
       "      <td>Kensington</td>\n",
       "      <td>Private room</td>\n",
       "      <td>149</td>\n",
       "      <td>1</td>\n",
       "      <td>9</td>\n",
       "    </tr>\n",
       "    <tr>\n",
       "      <th>1</th>\n",
       "      <td>2595</td>\n",
       "      <td>Skylit Midtown Castle</td>\n",
       "      <td>2845</td>\n",
       "      <td>Manhattan</td>\n",
       "      <td>Midtown</td>\n",
       "      <td>Entire home/apt</td>\n",
       "      <td>225</td>\n",
       "      <td>1</td>\n",
       "      <td>45</td>\n",
       "    </tr>\n",
       "    <tr>\n",
       "      <th>2</th>\n",
       "      <td>3647</td>\n",
       "      <td>THE VILLAGE OF HARLEM....NEW YORK !</td>\n",
       "      <td>4632</td>\n",
       "      <td>Manhattan</td>\n",
       "      <td>Harlem</td>\n",
       "      <td>Private room</td>\n",
       "      <td>150</td>\n",
       "      <td>3</td>\n",
       "      <td>0</td>\n",
       "    </tr>\n",
       "    <tr>\n",
       "      <th>3</th>\n",
       "      <td>3831</td>\n",
       "      <td>Cozy Entire Floor of Brownstone</td>\n",
       "      <td>4869</td>\n",
       "      <td>Brooklyn</td>\n",
       "      <td>Clinton Hill</td>\n",
       "      <td>Entire home/apt</td>\n",
       "      <td>89</td>\n",
       "      <td>1</td>\n",
       "      <td>270</td>\n",
       "    </tr>\n",
       "    <tr>\n",
       "      <th>4</th>\n",
       "      <td>5022</td>\n",
       "      <td>Entire Apt: Spacious Studio/Loft by central park</td>\n",
       "      <td>7192</td>\n",
       "      <td>Manhattan</td>\n",
       "      <td>East Harlem</td>\n",
       "      <td>Entire home/apt</td>\n",
       "      <td>80</td>\n",
       "      <td>10</td>\n",
       "      <td>9</td>\n",
       "    </tr>\n",
       "  </tbody>\n",
       "</table>\n",
       "</div>"
      ],
      "text/plain": [
       "     id  ... number_of_reviews\n",
       "0  2539  ...                 9\n",
       "1  2595  ...                45\n",
       "2  3647  ...                 0\n",
       "3  3831  ...               270\n",
       "4  5022  ...                 9\n",
       "\n",
       "[5 rows x 9 columns]"
      ]
     },
     "execution_count": 57,
     "metadata": {
      "tags": []
     },
     "output_type": "execute_result"
    }
   ],
   "source": [
    "# === Expected Output ==="
   ]
  },
  {
   "cell_type": "markdown",
   "metadata": {
    "id": "ahogwJyVyUqs"
   },
   "source": [
    "เปลี่ยนชื่อ id เป็น room_id\n",
    "\n",
    "เปลี่ยนชื่อ neighbourhood_group เป็น borough\n",
    "\n",
    "เปลี่ยนชื่อ minimum_nights เป็น min_nights\n",
    "\n",
    "เปลี่ยนชื่อ number_of_reviews เป็น n_reviews\n",
    "\n",
    "ตั้งค่าให้ room_id เป็น index"
   ]
  },
  {
   "cell_type": "code",
   "execution_count": null,
   "metadata": {
    "colab": {
     "base_uri": "https://localhost:8080/",
     "height": 235
    },
    "executionInfo": {
     "elapsed": 1158,
     "status": "ok",
     "timestamp": 1616247599064,
     "user": {
      "displayName": "Warunya Wunnasri",
      "photoUrl": "https://lh3.googleusercontent.com/a-/AOh14GjJhMcMXktp58JyzX_oFg1bYUNgMXy4GEH6LBFB=s64",
      "userId": "00897604730220330760"
     },
     "user_tz": -420
    },
    "id": "2MT5ezGvydGT",
    "outputId": "2bc715d0-9565-4c71-eab0-7142a4a16b3d"
   },
   "outputs": [
    {
     "data": {
      "text/html": [
       "<div>\n",
       "<style scoped>\n",
       "    .dataframe tbody tr th:only-of-type {\n",
       "        vertical-align: middle;\n",
       "    }\n",
       "\n",
       "    .dataframe tbody tr th {\n",
       "        vertical-align: top;\n",
       "    }\n",
       "\n",
       "    .dataframe thead th {\n",
       "        text-align: right;\n",
       "    }\n",
       "</style>\n",
       "<table border=\"1\" class=\"dataframe\">\n",
       "  <thead>\n",
       "    <tr style=\"text-align: right;\">\n",
       "      <th></th>\n",
       "      <th>name</th>\n",
       "      <th>host_id</th>\n",
       "      <th>borough</th>\n",
       "      <th>neighbourhood</th>\n",
       "      <th>room_type</th>\n",
       "      <th>price</th>\n",
       "      <th>min_nights</th>\n",
       "      <th>n_reviews</th>\n",
       "    </tr>\n",
       "    <tr>\n",
       "      <th>room_id</th>\n",
       "      <th></th>\n",
       "      <th></th>\n",
       "      <th></th>\n",
       "      <th></th>\n",
       "      <th></th>\n",
       "      <th></th>\n",
       "      <th></th>\n",
       "      <th></th>\n",
       "    </tr>\n",
       "  </thead>\n",
       "  <tbody>\n",
       "    <tr>\n",
       "      <th>2539</th>\n",
       "      <td>Clean &amp; quiet apt home by the park</td>\n",
       "      <td>2787</td>\n",
       "      <td>Brooklyn</td>\n",
       "      <td>Kensington</td>\n",
       "      <td>Private room</td>\n",
       "      <td>149</td>\n",
       "      <td>1</td>\n",
       "      <td>9</td>\n",
       "    </tr>\n",
       "    <tr>\n",
       "      <th>2595</th>\n",
       "      <td>Skylit Midtown Castle</td>\n",
       "      <td>2845</td>\n",
       "      <td>Manhattan</td>\n",
       "      <td>Midtown</td>\n",
       "      <td>Entire home/apt</td>\n",
       "      <td>225</td>\n",
       "      <td>1</td>\n",
       "      <td>45</td>\n",
       "    </tr>\n",
       "    <tr>\n",
       "      <th>3647</th>\n",
       "      <td>THE VILLAGE OF HARLEM....NEW YORK !</td>\n",
       "      <td>4632</td>\n",
       "      <td>Manhattan</td>\n",
       "      <td>Harlem</td>\n",
       "      <td>Private room</td>\n",
       "      <td>150</td>\n",
       "      <td>3</td>\n",
       "      <td>0</td>\n",
       "    </tr>\n",
       "    <tr>\n",
       "      <th>3831</th>\n",
       "      <td>Cozy Entire Floor of Brownstone</td>\n",
       "      <td>4869</td>\n",
       "      <td>Brooklyn</td>\n",
       "      <td>Clinton Hill</td>\n",
       "      <td>Entire home/apt</td>\n",
       "      <td>89</td>\n",
       "      <td>1</td>\n",
       "      <td>270</td>\n",
       "    </tr>\n",
       "    <tr>\n",
       "      <th>5022</th>\n",
       "      <td>Entire Apt: Spacious Studio/Loft by central park</td>\n",
       "      <td>7192</td>\n",
       "      <td>Manhattan</td>\n",
       "      <td>East Harlem</td>\n",
       "      <td>Entire home/apt</td>\n",
       "      <td>80</td>\n",
       "      <td>10</td>\n",
       "      <td>9</td>\n",
       "    </tr>\n",
       "  </tbody>\n",
       "</table>\n",
       "</div>"
      ],
      "text/plain": [
       "                                                     name  ...  n_reviews\n",
       "room_id                                                    ...           \n",
       "2539                   Clean & quiet apt home by the park  ...          9\n",
       "2595                                Skylit Midtown Castle  ...         45\n",
       "3647                  THE VILLAGE OF HARLEM....NEW YORK !  ...          0\n",
       "3831                      Cozy Entire Floor of Brownstone  ...        270\n",
       "5022     Entire Apt: Spacious Studio/Loft by central park  ...          9\n",
       "\n",
       "[5 rows x 8 columns]"
      ]
     },
     "execution_count": 58,
     "metadata": {
      "tags": []
     },
     "output_type": "execute_result"
    }
   ],
   "source": [
    "# === Expected Output ==="
   ]
  },
  {
   "cell_type": "markdown",
   "metadata": {
    "id": "lzDNhcByyf8u"
   },
   "source": [
    "ตรวจสอบสถิติเบื้องต้น"
   ]
  },
  {
   "cell_type": "code",
   "execution_count": null,
   "metadata": {
    "colab": {
     "base_uri": "https://localhost:8080/",
     "height": 297
    },
    "executionInfo": {
     "elapsed": 1017,
     "status": "ok",
     "timestamp": 1616247601640,
     "user": {
      "displayName": "Warunya Wunnasri",
      "photoUrl": "https://lh3.googleusercontent.com/a-/AOh14GjJhMcMXktp58JyzX_oFg1bYUNgMXy4GEH6LBFB=s64",
      "userId": "00897604730220330760"
     },
     "user_tz": -420
    },
    "id": "m3G6F5xqykXo",
    "outputId": "183d4f89-cb68-4acc-816f-1ba15886759c"
   },
   "outputs": [
    {
     "data": {
      "text/html": [
       "<div>\n",
       "<style scoped>\n",
       "    .dataframe tbody tr th:only-of-type {\n",
       "        vertical-align: middle;\n",
       "    }\n",
       "\n",
       "    .dataframe tbody tr th {\n",
       "        vertical-align: top;\n",
       "    }\n",
       "\n",
       "    .dataframe thead th {\n",
       "        text-align: right;\n",
       "    }\n",
       "</style>\n",
       "<table border=\"1\" class=\"dataframe\">\n",
       "  <thead>\n",
       "    <tr style=\"text-align: right;\">\n",
       "      <th></th>\n",
       "      <th>host_id</th>\n",
       "      <th>min_nights</th>\n",
       "      <th>n_reviews</th>\n",
       "    </tr>\n",
       "  </thead>\n",
       "  <tbody>\n",
       "    <tr>\n",
       "      <th>count</th>\n",
       "      <td>4.889800e+04</td>\n",
       "      <td>48898.000000</td>\n",
       "      <td>48898.000000</td>\n",
       "    </tr>\n",
       "    <tr>\n",
       "      <th>mean</th>\n",
       "      <td>6.761587e+07</td>\n",
       "      <td>7.030247</td>\n",
       "      <td>23.280011</td>\n",
       "    </tr>\n",
       "    <tr>\n",
       "      <th>std</th>\n",
       "      <td>7.861033e+07</td>\n",
       "      <td>20.510204</td>\n",
       "      <td>44.568092</td>\n",
       "    </tr>\n",
       "    <tr>\n",
       "      <th>min</th>\n",
       "      <td>2.438000e+03</td>\n",
       "      <td>1.000000</td>\n",
       "      <td>0.000000</td>\n",
       "    </tr>\n",
       "    <tr>\n",
       "      <th>25%</th>\n",
       "      <td>7.816403e+06</td>\n",
       "      <td>1.000000</td>\n",
       "      <td>1.000000</td>\n",
       "    </tr>\n",
       "    <tr>\n",
       "      <th>50%</th>\n",
       "      <td>3.079133e+07</td>\n",
       "      <td>3.000000</td>\n",
       "      <td>5.000000</td>\n",
       "    </tr>\n",
       "    <tr>\n",
       "      <th>75%</th>\n",
       "      <td>1.074344e+08</td>\n",
       "      <td>5.000000</td>\n",
       "      <td>24.000000</td>\n",
       "    </tr>\n",
       "    <tr>\n",
       "      <th>max</th>\n",
       "      <td>2.743213e+08</td>\n",
       "      <td>1250.000000</td>\n",
       "      <td>629.000000</td>\n",
       "    </tr>\n",
       "  </tbody>\n",
       "</table>\n",
       "</div>"
      ],
      "text/plain": [
       "            host_id    min_nights     n_reviews\n",
       "count  4.889800e+04  48898.000000  48898.000000\n",
       "mean   6.761587e+07      7.030247     23.280011\n",
       "std    7.861033e+07     20.510204     44.568092\n",
       "min    2.438000e+03      1.000000      0.000000\n",
       "25%    7.816403e+06      1.000000      1.000000\n",
       "50%    3.079133e+07      3.000000      5.000000\n",
       "75%    1.074344e+08      5.000000     24.000000\n",
       "max    2.743213e+08   1250.000000    629.000000"
      ]
     },
     "execution_count": 59,
     "metadata": {
      "tags": []
     },
     "output_type": "execute_result"
    }
   ],
   "source": [
    "# === Expected Output ==="
   ]
  },
  {
   "cell_type": "markdown",
   "metadata": {
    "id": "LWyAchBOyvBQ"
   },
   "source": [
    "ตรวจสอบขนาดและชนิดของข้อมูล"
   ]
  },
  {
   "cell_type": "code",
   "execution_count": null,
   "metadata": {
    "colab": {
     "base_uri": "https://localhost:8080/"
    },
    "executionInfo": {
     "elapsed": 1167,
     "status": "ok",
     "timestamp": 1616247608072,
     "user": {
      "displayName": "Warunya Wunnasri",
      "photoUrl": "https://lh3.googleusercontent.com/a-/AOh14GjJhMcMXktp58JyzX_oFg1bYUNgMXy4GEH6LBFB=s64",
      "userId": "00897604730220330760"
     },
     "user_tz": -420
    },
    "id": "SOn4feUWyrpX",
    "outputId": "fe3467b3-7503-4276-c4d3-92fc9e237f6c"
   },
   "outputs": [
    {
     "name": "stdout",
     "output_type": "stream",
     "text": [
      "(48898, 8)\n"
     ]
    },
    {
     "data": {
      "text/plain": [
       "name             object\n",
       "host_id           int64\n",
       "borough          object\n",
       "neighbourhood    object\n",
       "room_type        object\n",
       "price            object\n",
       "min_nights        int64\n",
       "n_reviews         int64\n",
       "dtype: object"
      ]
     },
     "execution_count": 60,
     "metadata": {
      "tags": []
     },
     "output_type": "execute_result"
    }
   ],
   "source": [
    "# === Expected Output ==="
   ]
  },
  {
   "cell_type": "markdown",
   "metadata": {
    "id": "vBCou4tJyw8h"
   },
   "source": [
    "ต้องแก้ไขชนิดของข้อมูลคอลัมภ์ price\n",
    "\n",
    "ใช้ function to_numeric โดยใช้ parameter errors\n",
    "\n",
    "ซึ่งสามารถมีค่าเป็น 'ignore', 'raise', หรือ 'coerce' มีค่า default เป็น 'raise'\n",
    "\n",
    "• 'raise', ถ้า parse ไม่ได้ จะโชว์ exception\n",
    "\n",
    "• 'coerce', ถ้า parse ไม่ได้ จะเซ็ตค่าเป็น NaN\n",
    "\n",
    "• 'ignore', ถ้า parse ไม่ได้ จะไม่ทำอะไรเลย (ข้อมูลคือ input)"
   ]
  },
  {
   "cell_type": "code",
   "execution_count": null,
   "metadata": {
    "colab": {
     "base_uri": "https://localhost:8080/"
    },
    "executionInfo": {
     "elapsed": 1019,
     "status": "ok",
     "timestamp": 1616247610774,
     "user": {
      "displayName": "Warunya Wunnasri",
      "photoUrl": "https://lh3.googleusercontent.com/a-/AOh14GjJhMcMXktp58JyzX_oFg1bYUNgMXy4GEH6LBFB=s64",
      "userId": "00897604730220330760"
     },
     "user_tz": -420
    },
    "id": "owWfYWAGy12X",
    "outputId": "5ab5a548-e082-4f41-de44-022ee210fdf5"
   },
   "outputs": [
    {
     "data": {
      "text/plain": [
       "name              object\n",
       "host_id            int64\n",
       "borough           object\n",
       "neighbourhood     object\n",
       "room_type         object\n",
       "price            float64\n",
       "min_nights         int64\n",
       "n_reviews          int64\n",
       "dtype: object"
      ]
     },
     "execution_count": 61,
     "metadata": {
      "tags": []
     },
     "output_type": "execute_result"
    }
   ],
   "source": [
    "# === Expected Output ==="
   ]
  },
  {
   "cell_type": "markdown",
   "metadata": {
    "id": "CazW5kHHy-tH"
   },
   "source": [
    "ตรวจสอบข้อมูลซ้ำซ้อน"
   ]
  },
  {
   "cell_type": "code",
   "execution_count": null,
   "metadata": {
    "colab": {
     "base_uri": "https://localhost:8080/"
    },
    "executionInfo": {
     "elapsed": 1043,
     "status": "ok",
     "timestamp": 1616247615405,
     "user": {
      "displayName": "Warunya Wunnasri",
      "photoUrl": "https://lh3.googleusercontent.com/a-/AOh14GjJhMcMXktp58JyzX_oFg1bYUNgMXy4GEH6LBFB=s64",
      "userId": "00897604730220330760"
     },
     "user_tz": -420
    },
    "id": "EJpJhDLPy_QL",
    "outputId": "405670f7-c793-481c-806d-fe596baaf0e5"
   },
   "outputs": [
    {
     "name": "stdout",
     "output_type": "stream",
     "text": [
      "(48898, 8)\n",
      "(48843, 8)\n"
     ]
    }
   ],
   "source": [
    "print(data.shape)\n",
    "\n",
    "# === Insert your code here ===\n",
    "\n",
    "print(data.shape)"
   ]
  },
  {
   "cell_type": "markdown",
   "metadata": {
    "id": "jZ_-gqvdzDjl"
   },
   "source": [
    "ค้นหาค่าว่าง ว่าแต่ละคอลัมภ์มีค่าว่างจำนวนเท่าใด"
   ]
  },
  {
   "cell_type": "code",
   "execution_count": null,
   "metadata": {
    "colab": {
     "base_uri": "https://localhost:8080/"
    },
    "executionInfo": {
     "elapsed": 1020,
     "status": "ok",
     "timestamp": 1616247618443,
     "user": {
      "displayName": "Warunya Wunnasri",
      "photoUrl": "https://lh3.googleusercontent.com/a-/AOh14GjJhMcMXktp58JyzX_oFg1bYUNgMXy4GEH6LBFB=s64",
      "userId": "00897604730220330760"
     },
     "user_tz": -420
    },
    "id": "d_PV8uo7zFeQ",
    "outputId": "8a293c41-7829-49f6-a64f-93a6a8bfa24b"
   },
   "outputs": [
    {
     "data": {
      "text/plain": [
       "name             16\n",
       "host_id           0\n",
       "borough           0\n",
       "neighbourhood     0\n",
       "room_type         0\n",
       "price             6\n",
       "min_nights        0\n",
       "n_reviews         0\n",
       "dtype: int64"
      ]
     },
     "execution_count": 63,
     "metadata": {
      "tags": []
     },
     "output_type": "execute_result"
    }
   ],
   "source": [
    "# === Expected Output ==="
   ]
  },
  {
   "cell_type": "markdown",
   "metadata": {
    "id": "XHK8YlQKzJfU"
   },
   "source": [
    "ลบแถวที่คอลัมภ์ name เป็นค่าว่าง"
   ]
  },
  {
   "cell_type": "code",
   "execution_count": null,
   "metadata": {
    "colab": {
     "base_uri": "https://localhost:8080/"
    },
    "executionInfo": {
     "elapsed": 823,
     "status": "ok",
     "timestamp": 1616247621490,
     "user": {
      "displayName": "Warunya Wunnasri",
      "photoUrl": "https://lh3.googleusercontent.com/a-/AOh14GjJhMcMXktp58JyzX_oFg1bYUNgMXy4GEH6LBFB=s64",
      "userId": "00897604730220330760"
     },
     "user_tz": -420
    },
    "id": "rPRO4NRizJ2a",
    "outputId": "a95c8c36-58ea-4afe-d381-ff9344e0d2e9"
   },
   "outputs": [
    {
     "data": {
      "text/plain": [
       "name             0\n",
       "host_id          0\n",
       "borough          0\n",
       "neighbourhood    0\n",
       "room_type        0\n",
       "price            6\n",
       "min_nights       0\n",
       "n_reviews        0\n",
       "dtype: int64"
      ]
     },
     "execution_count": 64,
     "metadata": {
      "tags": []
     },
     "output_type": "execute_result"
    }
   ],
   "source": [
    "# === Expected Output ==="
   ]
  },
  {
   "cell_type": "markdown",
   "metadata": {
    "id": "Nj6vXfhqzNMb"
   },
   "source": [
    "ตรวจสอบลักษณะของค่าว่างในคอลัมภ์ price"
   ]
  },
  {
   "cell_type": "code",
   "execution_count": null,
   "metadata": {
    "colab": {
     "base_uri": "https://localhost:8080/",
     "height": 266
    },
    "executionInfo": {
     "elapsed": 968,
     "status": "ok",
     "timestamp": 1616247623943,
     "user": {
      "displayName": "Warunya Wunnasri",
      "photoUrl": "https://lh3.googleusercontent.com/a-/AOh14GjJhMcMXktp58JyzX_oFg1bYUNgMXy4GEH6LBFB=s64",
      "userId": "00897604730220330760"
     },
     "user_tz": -420
    },
    "id": "dR0ci2pNzNwA",
    "outputId": "291a05b1-336f-413a-a9d5-57777e9dc916"
   },
   "outputs": [
    {
     "data": {
      "text/html": [
       "<div>\n",
       "<style scoped>\n",
       "    .dataframe tbody tr th:only-of-type {\n",
       "        vertical-align: middle;\n",
       "    }\n",
       "\n",
       "    .dataframe tbody tr th {\n",
       "        vertical-align: top;\n",
       "    }\n",
       "\n",
       "    .dataframe thead th {\n",
       "        text-align: right;\n",
       "    }\n",
       "</style>\n",
       "<table border=\"1\" class=\"dataframe\">\n",
       "  <thead>\n",
       "    <tr style=\"text-align: right;\">\n",
       "      <th></th>\n",
       "      <th>name</th>\n",
       "      <th>host_id</th>\n",
       "      <th>borough</th>\n",
       "      <th>neighbourhood</th>\n",
       "      <th>room_type</th>\n",
       "      <th>price</th>\n",
       "      <th>min_nights</th>\n",
       "      <th>n_reviews</th>\n",
       "    </tr>\n",
       "    <tr>\n",
       "      <th>room_id</th>\n",
       "      <th></th>\n",
       "      <th></th>\n",
       "      <th></th>\n",
       "      <th></th>\n",
       "      <th></th>\n",
       "      <th></th>\n",
       "      <th></th>\n",
       "      <th></th>\n",
       "    </tr>\n",
       "  </thead>\n",
       "  <tbody>\n",
       "    <tr>\n",
       "      <th>63913</th>\n",
       "      <td>HOSTING YOUR  SUNNY, SPACIOUS NYC ROOM</td>\n",
       "      <td>312288</td>\n",
       "      <td>Manhattan</td>\n",
       "      <td>Inwood</td>\n",
       "      <td>Private room</td>\n",
       "      <td>NaN</td>\n",
       "      <td>7</td>\n",
       "      <td>0</td>\n",
       "    </tr>\n",
       "    <tr>\n",
       "      <th>74333</th>\n",
       "      <td>Alcove Studio w/ outdoor Patio Deck</td>\n",
       "      <td>331328</td>\n",
       "      <td>Manhattan</td>\n",
       "      <td>East Harlem</td>\n",
       "      <td>Entire home/apt</td>\n",
       "      <td>NaN</td>\n",
       "      <td>14</td>\n",
       "      <td>26</td>\n",
       "    </tr>\n",
       "    <tr>\n",
       "      <th>200955</th>\n",
       "      <td>STYLISH EAST VILLAGE FLAT</td>\n",
       "      <td>568325</td>\n",
       "      <td>Manhattan</td>\n",
       "      <td>East Village</td>\n",
       "      <td>Entire home/apt</td>\n",
       "      <td>NaN</td>\n",
       "      <td>30</td>\n",
       "      <td>25</td>\n",
       "    </tr>\n",
       "    <tr>\n",
       "      <th>346805</th>\n",
       "      <td>Spacious Lower East Side Apt in NYC</td>\n",
       "      <td>562614</td>\n",
       "      <td>Manhattan</td>\n",
       "      <td>Lower East Side</td>\n",
       "      <td>Entire home/apt</td>\n",
       "      <td>NaN</td>\n",
       "      <td>1</td>\n",
       "      <td>53</td>\n",
       "    </tr>\n",
       "    <tr>\n",
       "      <th>540489</th>\n",
       "      <td>Large + Bright private bedroom in NoLiTa</td>\n",
       "      <td>2656413</td>\n",
       "      <td>Manhattan</td>\n",
       "      <td>Little Italy</td>\n",
       "      <td>Private room</td>\n",
       "      <td>NaN</td>\n",
       "      <td>6</td>\n",
       "      <td>18</td>\n",
       "    </tr>\n",
       "    <tr>\n",
       "      <th>652515</th>\n",
       "      <td>COLUMBUS CIRCLE~FULLY FURNISHED!!!</td>\n",
       "      <td>1475015</td>\n",
       "      <td>Manhattan</td>\n",
       "      <td>Hell's Kitchen</td>\n",
       "      <td>Entire home/apt</td>\n",
       "      <td>NaN</td>\n",
       "      <td>30</td>\n",
       "      <td>2</td>\n",
       "    </tr>\n",
       "  </tbody>\n",
       "</table>\n",
       "</div>"
      ],
      "text/plain": [
       "                                             name  ...  n_reviews\n",
       "room_id                                            ...           \n",
       "63913      HOSTING YOUR  SUNNY, SPACIOUS NYC ROOM  ...          0\n",
       "74333         Alcove Studio w/ outdoor Patio Deck  ...         26\n",
       "200955                  STYLISH EAST VILLAGE FLAT  ...         25\n",
       "346805        Spacious Lower East Side Apt in NYC  ...         53\n",
       "540489   Large + Bright private bedroom in NoLiTa  ...         18\n",
       "652515         COLUMBUS CIRCLE~FULLY FURNISHED!!!  ...          2\n",
       "\n",
       "[6 rows x 8 columns]"
      ]
     },
     "execution_count": 65,
     "metadata": {
      "tags": []
     },
     "output_type": "execute_result"
    }
   ],
   "source": [
    "# === Expected Output ==="
   ]
  },
  {
   "cell_type": "markdown",
   "metadata": {
    "id": "6jI7UUZ0zTBT"
   },
   "source": [
    "ให้แทนค่าว่างคอลัมภ์ price ด้วยค่าเฉลี่ย"
   ]
  },
  {
   "cell_type": "code",
   "execution_count": null,
   "metadata": {
    "colab": {
     "base_uri": "https://localhost:8080/",
     "height": 266
    },
    "executionInfo": {
     "elapsed": 1020,
     "status": "ok",
     "timestamp": 1616247630551,
     "user": {
      "displayName": "Warunya Wunnasri",
      "photoUrl": "https://lh3.googleusercontent.com/a-/AOh14GjJhMcMXktp58JyzX_oFg1bYUNgMXy4GEH6LBFB=s64",
      "userId": "00897604730220330760"
     },
     "user_tz": -420
    },
    "id": "SU77NkwCzUyY",
    "outputId": "34fe6bb5-4120-418c-acd4-daf9582b83ab"
   },
   "outputs": [
    {
     "data": {
      "text/html": [
       "<div>\n",
       "<style scoped>\n",
       "    .dataframe tbody tr th:only-of-type {\n",
       "        vertical-align: middle;\n",
       "    }\n",
       "\n",
       "    .dataframe tbody tr th {\n",
       "        vertical-align: top;\n",
       "    }\n",
       "\n",
       "    .dataframe thead th {\n",
       "        text-align: right;\n",
       "    }\n",
       "</style>\n",
       "<table border=\"1\" class=\"dataframe\">\n",
       "  <thead>\n",
       "    <tr style=\"text-align: right;\">\n",
       "      <th></th>\n",
       "      <th>name</th>\n",
       "      <th>host_id</th>\n",
       "      <th>borough</th>\n",
       "      <th>neighbourhood</th>\n",
       "      <th>room_type</th>\n",
       "      <th>price</th>\n",
       "      <th>min_nights</th>\n",
       "      <th>n_reviews</th>\n",
       "    </tr>\n",
       "    <tr>\n",
       "      <th>room_id</th>\n",
       "      <th></th>\n",
       "      <th></th>\n",
       "      <th></th>\n",
       "      <th></th>\n",
       "      <th></th>\n",
       "      <th></th>\n",
       "      <th></th>\n",
       "      <th></th>\n",
       "    </tr>\n",
       "  </thead>\n",
       "  <tbody>\n",
       "    <tr>\n",
       "      <th>63913</th>\n",
       "      <td>HOSTING YOUR  SUNNY, SPACIOUS NYC ROOM</td>\n",
       "      <td>312288</td>\n",
       "      <td>Manhattan</td>\n",
       "      <td>Inwood</td>\n",
       "      <td>Private room</td>\n",
       "      <td>152.707523</td>\n",
       "      <td>7</td>\n",
       "      <td>0</td>\n",
       "    </tr>\n",
       "    <tr>\n",
       "      <th>74333</th>\n",
       "      <td>Alcove Studio w/ outdoor Patio Deck</td>\n",
       "      <td>331328</td>\n",
       "      <td>Manhattan</td>\n",
       "      <td>East Harlem</td>\n",
       "      <td>Entire home/apt</td>\n",
       "      <td>152.707523</td>\n",
       "      <td>14</td>\n",
       "      <td>26</td>\n",
       "    </tr>\n",
       "    <tr>\n",
       "      <th>200955</th>\n",
       "      <td>STYLISH EAST VILLAGE FLAT</td>\n",
       "      <td>568325</td>\n",
       "      <td>Manhattan</td>\n",
       "      <td>East Village</td>\n",
       "      <td>Entire home/apt</td>\n",
       "      <td>152.707523</td>\n",
       "      <td>30</td>\n",
       "      <td>25</td>\n",
       "    </tr>\n",
       "    <tr>\n",
       "      <th>346805</th>\n",
       "      <td>Spacious Lower East Side Apt in NYC</td>\n",
       "      <td>562614</td>\n",
       "      <td>Manhattan</td>\n",
       "      <td>Lower East Side</td>\n",
       "      <td>Entire home/apt</td>\n",
       "      <td>152.707523</td>\n",
       "      <td>1</td>\n",
       "      <td>53</td>\n",
       "    </tr>\n",
       "    <tr>\n",
       "      <th>540489</th>\n",
       "      <td>Large + Bright private bedroom in NoLiTa</td>\n",
       "      <td>2656413</td>\n",
       "      <td>Manhattan</td>\n",
       "      <td>Little Italy</td>\n",
       "      <td>Private room</td>\n",
       "      <td>152.707523</td>\n",
       "      <td>6</td>\n",
       "      <td>18</td>\n",
       "    </tr>\n",
       "    <tr>\n",
       "      <th>652515</th>\n",
       "      <td>COLUMBUS CIRCLE~FULLY FURNISHED!!!</td>\n",
       "      <td>1475015</td>\n",
       "      <td>Manhattan</td>\n",
       "      <td>Hell's Kitchen</td>\n",
       "      <td>Entire home/apt</td>\n",
       "      <td>152.707523</td>\n",
       "      <td>30</td>\n",
       "      <td>2</td>\n",
       "    </tr>\n",
       "  </tbody>\n",
       "</table>\n",
       "</div>"
      ],
      "text/plain": [
       "                                             name  ...  n_reviews\n",
       "room_id                                            ...           \n",
       "63913      HOSTING YOUR  SUNNY, SPACIOUS NYC ROOM  ...          0\n",
       "74333         Alcove Studio w/ outdoor Patio Deck  ...         26\n",
       "200955                  STYLISH EAST VILLAGE FLAT  ...         25\n",
       "346805        Spacious Lower East Side Apt in NYC  ...         53\n",
       "540489   Large + Bright private bedroom in NoLiTa  ...         18\n",
       "652515         COLUMBUS CIRCLE~FULLY FURNISHED!!!  ...          2\n",
       "\n",
       "[6 rows x 8 columns]"
      ]
     },
     "execution_count": 66,
     "metadata": {
      "tags": []
     },
     "output_type": "execute_result"
    }
   ],
   "source": [
    "# === Expected Output ==="
   ]
  },
  {
   "cell_type": "markdown",
   "metadata": {
    "id": "3O0qUFMQzXu-"
   },
   "source": [
    "ตรวจสอบค่าว่างที่เหลือ"
   ]
  },
  {
   "cell_type": "code",
   "execution_count": null,
   "metadata": {
    "colab": {
     "base_uri": "https://localhost:8080/"
    },
    "executionInfo": {
     "elapsed": 834,
     "status": "ok",
     "timestamp": 1616247633967,
     "user": {
      "displayName": "Warunya Wunnasri",
      "photoUrl": "https://lh3.googleusercontent.com/a-/AOh14GjJhMcMXktp58JyzX_oFg1bYUNgMXy4GEH6LBFB=s64",
      "userId": "00897604730220330760"
     },
     "user_tz": -420
    },
    "id": "Ykvu-Dv7zZ0H",
    "outputId": "802b73e9-87e2-4eb0-90f4-b825f079c96f"
   },
   "outputs": [
    {
     "data": {
      "text/plain": [
       "name             0\n",
       "host_id          0\n",
       "borough          0\n",
       "neighbourhood    0\n",
       "room_type        0\n",
       "price            0\n",
       "min_nights       0\n",
       "n_reviews        0\n",
       "dtype: int64"
      ]
     },
     "execution_count": 67,
     "metadata": {
      "tags": []
     },
     "output_type": "execute_result"
    }
   ],
   "source": [
    "# === Expected Output ==="
   ]
  },
  {
   "cell_type": "markdown",
   "metadata": {
    "id": "pg_aOR6fzjh_"
   },
   "source": [
    "ตรวจสอบค่าในคอลัมภ์ borough (ใช้ Group by)"
   ]
  },
  {
   "cell_type": "code",
   "execution_count": null,
   "metadata": {
    "colab": {
     "base_uri": "https://localhost:8080/"
    },
    "executionInfo": {
     "elapsed": 1073,
     "status": "ok",
     "timestamp": 1616247636848,
     "user": {
      "displayName": "Warunya Wunnasri",
      "photoUrl": "https://lh3.googleusercontent.com/a-/AOh14GjJhMcMXktp58JyzX_oFg1bYUNgMXy4GEH6LBFB=s64",
      "userId": "00897604730220330760"
     },
     "user_tz": -420
    },
    "id": "Bgsbsum-zla0",
    "outputId": "a361e204-4038-4671-a187-f6ea84c392aa"
   },
   "outputs": [
    {
     "data": {
      "text/plain": [
       "borough\n",
       "Brokly               1\n",
       "Bronx             1090\n",
       "Brooklyn         20079\n",
       "Manhatan             1\n",
       "Manhattan        21629\n",
       "Queens            5654\n",
       "Staten Island      373\n",
       "Name: name, dtype: int64"
      ]
     },
     "execution_count": 68,
     "metadata": {
      "tags": []
     },
     "output_type": "execute_result"
    }
   ],
   "source": [
    "# === Expected Output ==="
   ]
  },
  {
   "cell_type": "markdown",
   "metadata": {
    "id": "sC56jqWiz8_b"
   },
   "source": [
    "แก้ไขข้อมูลที่พิมพ์ผิด"
   ]
  },
  {
   "cell_type": "code",
   "execution_count": null,
   "metadata": {
    "colab": {
     "base_uri": "https://localhost:8080/"
    },
    "executionInfo": {
     "elapsed": 939,
     "status": "ok",
     "timestamp": 1616247640424,
     "user": {
      "displayName": "Warunya Wunnasri",
      "photoUrl": "https://lh3.googleusercontent.com/a-/AOh14GjJhMcMXktp58JyzX_oFg1bYUNgMXy4GEH6LBFB=s64",
      "userId": "00897604730220330760"
     },
     "user_tz": -420
    },
    "id": "Ty7f3RmKz8KY",
    "outputId": "d5e35e2e-9ff0-4585-8dcf-ebc44fac2c7a"
   },
   "outputs": [
    {
     "data": {
      "text/plain": [
       "borough\n",
       "Bronx             1090\n",
       "Brooklyn         20080\n",
       "Manhattan        21630\n",
       "Queens            5654\n",
       "Staten Island      373\n",
       "Name: name, dtype: int64"
      ]
     },
     "execution_count": 69,
     "metadata": {
      "tags": []
     },
     "output_type": "execute_result"
    }
   ],
   "source": [
    "# === Expected Output ==="
   ]
  },
  {
   "cell_type": "markdown",
   "metadata": {
    "id": "dx6PQRrS3ICp"
   },
   "source": [
    "ตรวจสอบค่าทางสถิติ"
   ]
  },
  {
   "cell_type": "code",
   "execution_count": null,
   "metadata": {
    "colab": {
     "base_uri": "https://localhost:8080/",
     "height": 297
    },
    "executionInfo": {
     "elapsed": 1174,
     "status": "ok",
     "timestamp": 1616247644297,
     "user": {
      "displayName": "Warunya Wunnasri",
      "photoUrl": "https://lh3.googleusercontent.com/a-/AOh14GjJhMcMXktp58JyzX_oFg1bYUNgMXy4GEH6LBFB=s64",
      "userId": "00897604730220330760"
     },
     "user_tz": -420
    },
    "id": "RMdUOKmY3KO1",
    "outputId": "87e08ce2-5e67-48ad-dd50-0d29aa6c82a8"
   },
   "outputs": [
    {
     "data": {
      "text/html": [
       "<div>\n",
       "<style scoped>\n",
       "    .dataframe tbody tr th:only-of-type {\n",
       "        vertical-align: middle;\n",
       "    }\n",
       "\n",
       "    .dataframe tbody tr th {\n",
       "        vertical-align: top;\n",
       "    }\n",
       "\n",
       "    .dataframe thead th {\n",
       "        text-align: right;\n",
       "    }\n",
       "</style>\n",
       "<table border=\"1\" class=\"dataframe\">\n",
       "  <thead>\n",
       "    <tr style=\"text-align: right;\">\n",
       "      <th></th>\n",
       "      <th>host_id</th>\n",
       "      <th>price</th>\n",
       "      <th>min_nights</th>\n",
       "      <th>n_reviews</th>\n",
       "    </tr>\n",
       "  </thead>\n",
       "  <tbody>\n",
       "    <tr>\n",
       "      <th>count</th>\n",
       "      <td>4.882700e+04</td>\n",
       "      <td>48827.000000</td>\n",
       "      <td>48827.000000</td>\n",
       "      <td>48827.000000</td>\n",
       "    </tr>\n",
       "    <tr>\n",
       "      <th>mean</th>\n",
       "      <td>6.755047e+07</td>\n",
       "      <td>152.707523</td>\n",
       "      <td>6.999775</td>\n",
       "      <td>23.304340</td>\n",
       "    </tr>\n",
       "    <tr>\n",
       "      <th>std</th>\n",
       "      <td>7.856916e+07</td>\n",
       "      <td>240.275661</td>\n",
       "      <td>20.018601</td>\n",
       "      <td>44.573692</td>\n",
       "    </tr>\n",
       "    <tr>\n",
       "      <th>min</th>\n",
       "      <td>2.438000e+03</td>\n",
       "      <td>0.000000</td>\n",
       "      <td>1.000000</td>\n",
       "      <td>0.000000</td>\n",
       "    </tr>\n",
       "    <tr>\n",
       "      <th>25%</th>\n",
       "      <td>7.809598e+06</td>\n",
       "      <td>69.000000</td>\n",
       "      <td>1.000000</td>\n",
       "      <td>1.000000</td>\n",
       "    </tr>\n",
       "    <tr>\n",
       "      <th>50%</th>\n",
       "      <td>3.073664e+07</td>\n",
       "      <td>106.000000</td>\n",
       "      <td>3.000000</td>\n",
       "      <td>5.000000</td>\n",
       "    </tr>\n",
       "    <tr>\n",
       "      <th>75%</th>\n",
       "      <td>1.074344e+08</td>\n",
       "      <td>175.000000</td>\n",
       "      <td>5.000000</td>\n",
       "      <td>24.000000</td>\n",
       "    </tr>\n",
       "    <tr>\n",
       "      <th>max</th>\n",
       "      <td>2.743213e+08</td>\n",
       "      <td>10000.000000</td>\n",
       "      <td>1250.000000</td>\n",
       "      <td>629.000000</td>\n",
       "    </tr>\n",
       "  </tbody>\n",
       "</table>\n",
       "</div>"
      ],
      "text/plain": [
       "            host_id         price    min_nights     n_reviews\n",
       "count  4.882700e+04  48827.000000  48827.000000  48827.000000\n",
       "mean   6.755047e+07    152.707523      6.999775     23.304340\n",
       "std    7.856916e+07    240.275661     20.018601     44.573692\n",
       "min    2.438000e+03      0.000000      1.000000      0.000000\n",
       "25%    7.809598e+06     69.000000      1.000000      1.000000\n",
       "50%    3.073664e+07    106.000000      3.000000      5.000000\n",
       "75%    1.074344e+08    175.000000      5.000000     24.000000\n",
       "max    2.743213e+08  10000.000000   1250.000000    629.000000"
      ]
     },
     "execution_count": 70,
     "metadata": {
      "tags": []
     },
     "output_type": "execute_result"
    }
   ],
   "source": [
    "# === Expected Output ==="
   ]
  },
  {
   "cell_type": "markdown",
   "metadata": {
    "id": "laB59sbZ1F3m"
   },
   "source": [
    "หาข้อมูลผิดปกติด้วย IQR\n",
    "\n",
    "หาค่า Q1, Q3, IQR, Upper, Lower จากคอลัมภ์ price"
   ]
  },
  {
   "cell_type": "code",
   "execution_count": null,
   "metadata": {
    "id": "DVVaDN1i1LJl"
   },
   "outputs": [],
   "source": [
    "q3 = data.price.quantile(.75)\n",
    "q1 = data.price.quantile(.25)\n",
    "#ได้ผลเดียวกัน\n",
    "#q3, q1 = np.percentile(data.population,[75,25])\n",
    "\n",
    "iqr = q3-q1\n",
    "upper = q3+(1.5*iqr)\n",
    "lower = q1-(1.5*iqr)\n",
    "\n",
    "print('''Q1 = {}\n",
    "Q3 = {}\n",
    "IQR = {}\n",
    "Upper = {}\n",
    "Lower = {}\n",
    "'''.format(q1,q3,iqr,upper,lower))"
   ]
  },
  {
   "cell_type": "markdown",
   "metadata": {
    "id": "m7pRgplc1PR7"
   },
   "source": [
    "สร้าง boxplot เพื่อแสดงค่าผิดปกติ"
   ]
  },
  {
   "cell_type": "code",
   "execution_count": null,
   "metadata": {
    "id": "gQUG1yXL1P7D"
   },
   "outputs": [],
   "source": [
    "import matplotlib.pyplot as plt\n",
    "plt.axvline(x=q1, c='b', linestyle=\"--\", linewidth=1)\n",
    "plt.axvline(x=q3, c='b', linestyle=\"--\", linewidth=1)\n",
    "plt.axvline(x=lower, c='r', linestyle=\"--\")\n",
    "plt.axvline(x=upper, c='r', linestyle=\"--\")\n",
    "plt.boxplot(data.price,vert=False)\n",
    "plt.show()"
   ]
  },
  {
   "cell_type": "markdown",
   "metadata": {
    "id": "xXU6UENQ1TJG"
   },
   "source": [
    "หาจำนวนค่าผิดปกติที่อยู่นอกขอบเขตของ Upper และ Lower"
   ]
  },
  {
   "cell_type": "code",
   "execution_count": null,
   "metadata": {
    "colab": {
     "base_uri": "https://localhost:8080/"
    },
    "executionInfo": {
     "elapsed": 1015,
     "status": "ok",
     "timestamp": 1616247665333,
     "user": {
      "displayName": "Warunya Wunnasri",
      "photoUrl": "https://lh3.googleusercontent.com/a-/AOh14GjJhMcMXktp58JyzX_oFg1bYUNgMXy4GEH6LBFB=s64",
      "userId": "00897604730220330760"
     },
     "user_tz": -420
    },
    "id": "Mykfw0p01Twr",
    "outputId": "8eb45234-cbe7-4c6e-ecdf-28794eced26f"
   },
   "outputs": [
    {
     "name": "stdout",
     "output_type": "stream",
     "text": [
      "Outlier upper = 2967\n",
      "Outlier lower = 0\n"
     ]
    }
   ],
   "source": [
    "# === Expected Output ==="
   ]
  },
  {
   "cell_type": "markdown",
   "metadata": {
    "id": "5eTLTVSF1VbV"
   },
   "source": [
    "Backup ค่า Dataframe"
   ]
  },
  {
   "cell_type": "code",
   "execution_count": null,
   "metadata": {
    "id": "2VJQ1cbr1XnR"
   },
   "outputs": [],
   "source": [
    "data2 = data.copy()"
   ]
  },
  {
   "cell_type": "markdown",
   "metadata": {
    "id": "5RuwZGyV1ZKf"
   },
   "source": [
    "(1) ทดสอบการกำจัดค่าผิดปกติกับตัวแปร data2"
   ]
  },
  {
   "cell_type": "code",
   "execution_count": null,
   "metadata": {
    "colab": {
     "base_uri": "https://localhost:8080/"
    },
    "executionInfo": {
     "elapsed": 857,
     "status": "ok",
     "timestamp": 1616247671417,
     "user": {
      "displayName": "Warunya Wunnasri",
      "photoUrl": "https://lh3.googleusercontent.com/a-/AOh14GjJhMcMXktp58JyzX_oFg1bYUNgMXy4GEH6LBFB=s64",
      "userId": "00897604730220330760"
     },
     "user_tz": -420
    },
    "id": "t7gjZ-NI1b5m",
    "outputId": "3ee7ad7c-a293-41d5-f028-304a9d1fd9e5"
   },
   "outputs": [
    {
     "name": "stdout",
     "output_type": "stream",
     "text": [
      "(48827, 8)\n"
     ]
    },
    {
     "data": {
      "text/plain": [
       "(45860, 8)"
      ]
     },
     "execution_count": 75,
     "metadata": {
      "tags": []
     },
     "output_type": "execute_result"
    }
   ],
   "source": [
    "print(data2.shape)\n",
    "\n",
    "# === Insert your code here ===\n",
    "\n",
    "data2.shape"
   ]
  },
  {
   "cell_type": "markdown",
   "metadata": {
    "id": "llcyAhPx1eOn"
   },
   "source": [
    "(2) ทำวิธี IQR อีกครั้ง เนื่องจากมีการปรับปรุงค่า\n",
    "\n",
    "ตรวจสอบว่ากำจัดค่าผิดปกติหมดหรือยัง จากการ drop ในขั้นตอนที่ (1)"
   ]
  },
  {
   "cell_type": "code",
   "execution_count": null,
   "metadata": {
    "id": "RF3RqnEK1gw3"
   },
   "outputs": [],
   "source": [
    "q3 = data2.price.quantile(.75)\n",
    "q1 = data2.price.quantile(.25)\n",
    "iqr = q3-q1\n",
    "upper = q3+(1.5*iqr)\n",
    "lower = q1-(1.5*iqr)\n",
    "print('''Q1={}\n",
    "Q3={}\n",
    "IQR={}\n",
    "Upper={}\n",
    "Lower={}\n",
    "'''.format(q1,q3,iqr,upper,lower))\n",
    "\n",
    "plt.axvline(x=q1, c='b', linestyle=\"--\", linewidth=1)\n",
    "plt.axvline(x=q3, c='b', linestyle=\"--\", linewidth=1)\n",
    "plt.axvline(x=lower, c='r', linestyle=\"--\")\n",
    "plt.axvline(x=upper, c='r', linestyle=\"--\")\n",
    "plt.boxplot(data2.price,vert=False)\n",
    "plt.show()"
   ]
  },
  {
   "cell_type": "markdown",
   "metadata": {
    "id": "3Sk5_iXZ1k1j"
   },
   "source": [
    "ตรวจดูจำนวนข้อมูลที่เหลือ รวมถึงค่าสถิติต่างๆ"
   ]
  },
  {
   "cell_type": "code",
   "execution_count": null,
   "metadata": {
    "id": "sXDko3Zf1lTq"
   },
   "outputs": [],
   "source": [
    "data2.describe()"
   ]
  }
 ],
 "metadata": {
  "colab": {
   "collapsed_sections": [],
   "name": "DELAB12_Collection_Cleansing_6230204652.ipynb",
   "provenance": [
    {
     "file_id": "1AK1zPhI-08Oo6X8pbKnkh73CDxFO6HVn",
     "timestamp": 1617355498279
    }
   ]
  },
  "kernelspec": {
   "display_name": "Python 3",
   "language": "python",
   "name": "python3"
  },
  "language_info": {
   "codemirror_mode": {
    "name": "ipython",
    "version": 3
   },
   "file_extension": ".py",
   "mimetype": "text/x-python",
   "name": "python",
   "nbconvert_exporter": "python",
   "pygments_lexer": "ipython3",
   "version": "3.8.8"
  }
 },
 "nbformat": 4,
 "nbformat_minor": 1
}