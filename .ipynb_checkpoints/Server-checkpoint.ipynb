{
 "cells": [
  {
   "cell_type": "markdown",
   "metadata": {},
   "source": [
    "# Code"
   ]
  },
  {
   "cell_type": "code",
   "execution_count": null,
   "metadata": {
    "ExecuteTime": {
     "end_time": "2021-03-26T10:27:07.115539Z",
     "start_time": "2021-03-26T10:15:22.331716Z"
    },
    "scrolled": true
   },
   "outputs": [
    {
     "name": "stdout",
     "output_type": "stream",
     "text": [
      "DESKTOP-81G9E7K\n",
      "Connection from : ('192.168.0.100', 53277)\n"
     ]
    }
   ],
   "source": [
    "from socket import socket,gethostname\n",
    "import pickle as pk\n",
    "\n",
    "s = socket()\n",
    "host = gethostname()\n",
    "print(host)\n",
    "\n",
    "port = 1234\n",
    "s.bind((host, port))\n",
    "s.listen()\n",
    "\n",
    "MSG = f'login(\"{host}\", \"{port}\")'.encode()\n",
    "\n",
    "while True:\n",
    "    c, addr = s.accept()\n",
    "    print('Connection from :', addr)\n",
    "    MSG = pk.dumps(c)\n",
    "    c.send(MSG)\n",
    "    \n",
    "    try:\n",
    "        while True:\n",
    "            CMSG = c.recv(1024).decode()\n",
    "            options(CMSG)\n",
    "            c.send(\"exit\".encode())\n",
    "\n",
    "            if CMSG.upper() == 'EXIT':\n",
    "                c.close()\n",
    "                break\n",
    "                \n",
    "    except ConnectionAbortedError:\n",
    "        line_break(f\"Client {addr[0]}:{addr[1]} has been disconnect!!\")        "
   ]
  }
 ],
 "metadata": {
  "hide_input": false,
  "kernelspec": {
   "display_name": "Python 3",
   "language": "python",
   "name": "python3"
  },
  "language_info": {
   "codemirror_mode": {
    "name": "ipython",
    "version": 3
   },
   "file_extension": ".py",
   "mimetype": "text/x-python",
   "name": "python",
   "nbconvert_exporter": "python",
   "pygments_lexer": "ipython3",
   "version": "3.8.3"
  },
  "toc": {
   "base_numbering": 1,
   "nav_menu": {},
   "number_sections": true,
   "sideBar": true,
   "skip_h1_title": false,
   "title_cell": "Table of Contents",
   "title_sidebar": "Contents",
   "toc_cell": false,
   "toc_position": {},
   "toc_section_display": true,
   "toc_window_display": false
  },
  "varInspector": {
   "cols": {
    "lenName": 16,
    "lenType": 16,
    "lenVar": 40
   },
   "kernels_config": {
    "python": {
     "delete_cmd_postfix": "",
     "delete_cmd_prefix": "del ",
     "library": "var_list.py",
     "varRefreshCmd": "print(var_dic_list())"
    },
    "r": {
     "delete_cmd_postfix": ") ",
     "delete_cmd_prefix": "rm(",
     "library": "var_list.r",
     "varRefreshCmd": "cat(var_dic_list()) "
    }
   },
   "types_to_exclude": [
    "module",
    "function",
    "builtin_function_or_method",
    "instance",
    "_Feature"
   ],
   "window_display": false
  }
 },
 "nbformat": 4,
 "nbformat_minor": 4
}
