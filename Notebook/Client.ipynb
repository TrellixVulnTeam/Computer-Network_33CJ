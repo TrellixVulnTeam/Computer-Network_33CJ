{
 "cells": [
  {
   "cell_type": "markdown",
   "metadata": {},
   "source": [
    "# Code"
   ]
  },
  {
   "cell_type": "code",
   "execution_count": null,
   "metadata": {
    "ExecuteTime": {
     "start_time": "2021-03-26T10:26:56.005Z"
    }
   },
   "outputs": [],
   "source": [
    "from socket import socket,gethostname\n",
    "import pickle as pk\n",
    "\n",
    "s = socket()\n",
    "host = gethostname()\n",
    "port = 1234\n",
    "\n",
    "s.connect(\n",
    "    (host, port)\n",
    ")\n",
    "\n",
    "MSG = s.recv(4096)\n",
    "# options(MSG.decode())\n",
    "MSG = pk.loads(MSG)\n",
    "print(MSG)\n",
    "s.send('exit()'.encode())\n",
    "\n",
    "while True:\n",
    "    SMSG = s.recv(1024).decode()\n",
    "    if SMSG.upper() == ('EXIT'):\n",
    "        break\n",
    "        \n",
    "    options(SMSG)\n",
    "    \n",
    "s.close()"
   ]
  }
 ],
 "metadata": {
  "hide_input": false,
  "kernelspec": {
   "display_name": "Python 3",
   "language": "python",
   "name": "python3"
  },
  "language_info": {
   "codemirror_mode": {
    "name": "ipython",
    "version": 3
   },
   "file_extension": ".py",
   "mimetype": "text/x-python",
   "name": "python",
   "nbconvert_exporter": "python",
   "pygments_lexer": "ipython3",
   "version": "3.8.3"
  },
  "toc": {
   "base_numbering": 1,
   "nav_menu": {},
   "number_sections": true,
   "sideBar": true,
   "skip_h1_title": false,
   "title_cell": "Table of Contents",
   "title_sidebar": "Contents",
   "toc_cell": false,
   "toc_position": {},
   "toc_section_display": true,
   "toc_window_display": false
  },
  "varInspector": {
   "cols": {
    "lenName": 16,
    "lenType": 16,
    "lenVar": 40
   },
   "kernels_config": {
    "python": {
     "delete_cmd_postfix": "",
     "delete_cmd_prefix": "del ",
     "library": "var_list.py",
     "varRefreshCmd": "print(var_dic_list())"
    },
    "r": {
     "delete_cmd_postfix": ") ",
     "delete_cmd_prefix": "rm(",
     "library": "var_list.r",
     "varRefreshCmd": "cat(var_dic_list()) "
    }
   },
   "types_to_exclude": [
    "module",
    "function",
    "builtin_function_or_method",
    "instance",
    "_Feature"
   ],
   "window_display": false
  }
 },
 "nbformat": 4,
 "nbformat_minor": 4
}