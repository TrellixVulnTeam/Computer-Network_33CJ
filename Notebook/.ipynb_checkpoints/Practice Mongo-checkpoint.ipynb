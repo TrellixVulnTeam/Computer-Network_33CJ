{
 "cells": [
  {
   "cell_type": "code",
   "execution_count": 3,
   "metadata": {
    "ExecuteTime": {
     "end_time": "2021-03-24T13:22:42.561841Z",
     "start_time": "2021-03-24T13:22:41.557398Z"
    }
   },
   "outputs": [],
   "source": [
    "import pymongo\n",
    "client = pymongo.MongoClient(\"mongodb://localhost:27017/\")\n",
    "db = client.Practice                             "
   ]
  },
  {
   "cell_type": "code",
   "execution_count": 6,
   "metadata": {
    "ExecuteTime": {
     "end_time": "2021-03-24T13:25:13.748527Z",
     "start_time": "2021-03-24T13:25:13.734555Z"
    }
   },
   "outputs": [
    {
     "data": {
      "text/plain": [
       "<pymongo.results.InsertManyResult at 0x276a71e6cc0>"
      ]
     },
     "execution_count": 6,
     "metadata": {},
     "output_type": "execute_result"
    }
   ],
   "source": [
    "db.user.insert_many([{\"user\": \"csmob\", \"name\": \"Computer Science\"}, \n",
    "                {\"user\": \"itmob\", \"name\": \"Infomation Technology\"}])"
   ]
  },
  {
   "cell_type": "code",
   "execution_count": 13,
   "metadata": {
    "ExecuteTime": {
     "end_time": "2021-03-24T13:36:41.528038Z",
     "start_time": "2021-03-24T13:36:41.512080Z"
    }
   },
   "outputs": [
    {
     "data": {
      "text/plain": [
       "[{'_id': ObjectId('605b3d7836b11f2acefccee6'),\n",
       "  'user': 'itmob',\n",
       "  'name': 'Infomation Technology'},\n",
       " {'_id': ObjectId('605b3db936b11f2acefccee8'),\n",
       "  'user': 'itmob',\n",
       "  'name': 'Infomation Technology'}]"
      ]
     },
     "execution_count": 13,
     "metadata": {},
     "output_type": "execute_result"
    }
   ],
   "source": [
    "[*db.user.find({\"user\": \"itmob\"})]"
   ]
  },
  {
   "cell_type": "code",
   "execution_count": 16,
   "metadata": {
    "ExecuteTime": {
     "end_time": "2021-03-24T13:38:13.034983Z",
     "start_time": "2021-03-24T13:38:13.022008Z"
    }
   },
   "outputs": [
    {
     "data": {
      "text/plain": [
       "[{'_id': ObjectId('605b3d7836b11f2acefccee5'),\n",
       "  'user': 'csmob',\n",
       "  'name': 'Computer Science'},\n",
       " {'_id': ObjectId('605b3db936b11f2acefccee7'),\n",
       "  'user': 'csmob',\n",
       "  'name': 'Computer Science'}]"
      ]
     },
     "execution_count": 16,
     "metadata": {},
     "output_type": "execute_result"
    }
   ],
   "source": [
    "query = dict(\n",
    "    user=\"csmob\", \n",
    "    name=\"Computer Science\"\n",
    ")\n",
    "[*db.user.find(query)]"
   ]
  },
  {
   "cell_type": "code",
   "execution_count": null,
   "metadata": {},
   "outputs": [],
   "source": []
  }
 ],
 "metadata": {
  "hide_input": false,
  "kernelspec": {
   "display_name": "Python 3",
   "language": "python",
   "name": "python3"
  },
  "language_info": {
   "codemirror_mode": {
    "name": "ipython",
    "version": 3
   },
   "file_extension": ".py",
   "mimetype": "text/x-python",
   "name": "python",
   "nbconvert_exporter": "python",
   "pygments_lexer": "ipython3",
   "version": "3.8.3"
  },
  "toc": {
   "base_numbering": 1,
   "nav_menu": {},
   "number_sections": true,
   "sideBar": true,
   "skip_h1_title": false,
   "title_cell": "Table of Contents",
   "title_sidebar": "Contents",
   "toc_cell": false,
   "toc_position": {},
   "toc_section_display": true,
   "toc_window_display": false
  },
  "varInspector": {
   "cols": {
    "lenName": 16,
    "lenType": 16,
    "lenVar": 40
   },
   "kernels_config": {
    "python": {
     "delete_cmd_postfix": "",
     "delete_cmd_prefix": "del ",
     "library": "var_list.py",
     "varRefreshCmd": "print(var_dic_list())"
    },
    "r": {
     "delete_cmd_postfix": ") ",
     "delete_cmd_prefix": "rm(",
     "library": "var_list.r",
     "varRefreshCmd": "cat(var_dic_list()) "
    }
   },
   "types_to_exclude": [
    "module",
    "function",
    "builtin_function_or_method",
    "instance",
    "_Feature"
   ],
   "window_display": false
  }
 },
 "nbformat": 4,
 "nbformat_minor": 4
}
