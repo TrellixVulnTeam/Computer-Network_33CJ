{
 "cells": [
  {
   "cell_type": "code",
   "execution_count": 1,
   "metadata": {
    "ExecuteTime": {
     "end_time": "2021-03-25T10:01:25.222120Z",
     "start_time": "2021-03-25T10:01:25.214172Z"
    }
   },
   "outputs": [],
   "source": [
    "def table_all_menu():\n",
    "    while True:\n",
    "        print(tabulate(rows, headers, tablefmt=\"grid\"))\n",
    "        print(f'''Option:\n",
    "        [S] => Select Food\n",
    "        [E] => Exit\n",
    "        ''')\n",
    "\n",
    "        option = input(\"Enter your Option: \")\n",
    "\n",
    "        if option.lower() == 's':\n",
    "            select = input(\"\")\n",
    "        elif option.lower() == 'e':\n",
    "            break\n",
    "        else:\n",
    "            clear_output()\n",
    "            line_break = \"=====\" * 10\n",
    "            print(f\"\"\"\n",
    "            {line_break}\n",
    "            Incorrect options: Please enter your option Again!!\n",
    "            {line_break}\\n\"\"\", end=\"\\r\")"
   ]
  },
  {
   "cell_type": "code",
   "execution_count": null,
   "metadata": {},
   "outputs": [],
   "source": []
  }
 ],
 "metadata": {
  "hide_input": false,
  "kernelspec": {
   "display_name": "Python 3",
   "language": "python",
   "name": "python3"
  },
  "language_info": {
   "codemirror_mode": {
    "name": "ipython",
    "version": 3
   },
   "file_extension": ".py",
   "mimetype": "text/x-python",
   "name": "python",
   "nbconvert_exporter": "python",
   "pygments_lexer": "ipython3",
   "version": "3.8.3"
  },
  "toc": {
   "base_numbering": 1,
   "nav_menu": {},
   "number_sections": true,
   "sideBar": true,
   "skip_h1_title": false,
   "title_cell": "Table of Contents",
   "title_sidebar": "Contents",
   "toc_cell": false,
   "toc_position": {},
   "toc_section_display": true,
   "toc_window_display": false
  },
  "varInspector": {
   "cols": {
    "lenName": 16,
    "lenType": 16,
    "lenVar": 40
   },
   "kernels_config": {
    "python": {
     "delete_cmd_postfix": "",
     "delete_cmd_prefix": "del ",
     "library": "var_list.py",
     "varRefreshCmd": "print(var_dic_list())"
    },
    "r": {
     "delete_cmd_postfix": ") ",
     "delete_cmd_prefix": "rm(",
     "library": "var_list.r",
     "varRefreshCmd": "cat(var_dic_list()) "
    }
   },
   "types_to_exclude": [
    "module",
    "function",
    "builtin_function_or_method",
    "instance",
    "_Feature"
   ],
   "window_display": false
  }
 },
 "nbformat": 4,
 "nbformat_minor": 4
}
