{
 "cells": [
  {
   "cell_type": "markdown",
   "metadata": {
    "id": "CwWVFffBPMx-"
   },
   "source": [
    "## Rules\n",
    "``` Python \n",
    "Port: 1234\n",
    "```\n",
    "\n",
    "``` Python \n",
    "Special Port: 7777\n",
    "```\n",
    "\n",
    "**Client**\n",
    "* Register\n",
    "* Search Food\n",
    "* Select Food\n",
    "* Send Request\n",
    "  * Can Re-Select Food(Server waiting)\n",
    "* Paid History\n",
    "  * Can Request Food\n",
    "\n",
    "**Server**\n",
    "* Hello (Menu)\n",
    "* Member\n",
    "* Process Request (Clients)\n",
    "  * Confirm Request\n",
    "* Database\n",
    "\n",
    "**Application**\n",
    "* Special Port: 7777\n",
    "  * Can Change\n",
    "* Analyzed ( Database )\n",
    "  * History\n",
    "  * Name (Member)\n",
    "  * Request History (Success or Not)\n",
    "  * Report Server - Client\n",
    "  * Open/Close: Server & Client\n"
   ]
  },
  {
   "cell_type": "markdown",
   "metadata": {
    "ExecuteTime": {
     "end_time": "2021-03-25T10:08:47.055766Z",
     "start_time": "2021-03-25T10:08:47.051779Z"
    }
   },
   "source": [
    "## Coding"
   ]
  },
  {
   "cell_type": "markdown",
   "metadata": {},
   "source": [
    "### Import"
   ]
  },
  {
   "cell_type": "code",
   "execution_count": null,
   "metadata": {},
   "outputs": [],
   "source": [
    "from tabulate import tabulate\n",
    "from os import system\n",
    "from IPython.display import clear_output"
   ]
  },
  {
   "cell_type": "markdown",
   "metadata": {},
   "source": [
    "### Function Define\n",
    "``` Python\n",
    "    pages_text(i, pages) => Return ข้อความเกี่ยวกับหน้าใน Menu\n",
    "    table_menu_pages(data) => แสดงรายการอาหาร\n",
    "```"
   ]
  },
  {
   "cell_type": "code",
   "execution_count": 27,
   "metadata": {
    "ExecuteTime": {
     "end_time": "2021-03-25T10:36:58.469784Z",
     "start_time": "2021-03-25T10:36:58.465805Z"
    }
   },
   "outputs": [],
   "source": [
    "def pages_text(i, pages):\n",
    "    items = sum([len(item) for item in pages])\n",
    "    if items <= 10:\n",
    "        return \"\"\n",
    "    elif i == 0 and (items > 10):\n",
    "        pages_text = '''[N] => Next page'''\n",
    "    elif i == (len(pages)-1) and (items > 10):\n",
    "        pages_text = '''[P] => Previous'''\n",
    "    else:\n",
    "        pages_text = '''[N] => Next page\n",
    "        [P] => Previous'''\n",
    "    return pages_text"
   ]
  },
  {
   "cell_type": "code",
   "execution_count": 18,
   "metadata": {
    "ExecuteTime": {
     "end_time": "2021-03-25T10:29:23.507636Z",
     "start_time": "2021-03-25T10:29:23.497687Z"
    },
    "scrolled": false
   },
   "outputs": [],
   "source": [
    "def table_menu_pages(data):\n",
    "    size = 10\n",
    "    headers = data[0].keys()\n",
    "    rows = [x.values() for x in data]\n",
    "    pages = [rows[x:x+size] for x in range(0, len(rows), size)]\n",
    "\n",
    "    page_index = 0\n",
    "    select_menu = {}\n",
    "    while True:\n",
    "        print(tabulate(pages[page_index], headers, tablefmt=\"grid\"))\n",
    "        print(f'''Option:\n",
    "        [S] => Select Food\n",
    "        {pages_text(page_index, pages)}\n",
    "        [E] => Exit\n",
    "        ''')\n",
    "\n",
    "        option = input(\"Enter your menu ID: \")\n",
    "\n",
    "        if option.lower() == 's':\n",
    "            select = input\n",
    "        elif option.lower() == 'n' and page_index < (len(pages)-1):\n",
    "            clear_output()\n",
    "            page_index += 1\n",
    "        elif option.lower() == 'p' and page_index != 0:\n",
    "            clear_output()\n",
    "            page_index -= 1\n",
    "        elif option.lower() == 'e':\n",
    "            break\n",
    "        else:\n",
    "            clear_output()\n",
    "            line_break = \"=====\" * 10\n",
    "            print(f\"\"\"\n",
    "            {line_break}\n",
    "            Incorrect options: Please enter your option Again!!\n",
    "            {line_break}\\n\"\"\", end=\"\\r\")"
   ]
  },
  {
   "cell_type": "markdown",
   "metadata": {},
   "source": [
    "### Connect Database"
   ]
  },
  {
   "cell_type": "code",
   "execution_count": 1,
   "metadata": {
    "ExecuteTime": {
     "end_time": "2021-03-25T09:55:39.443770Z",
     "start_time": "2021-03-25T09:55:39.021843Z"
    },
    "colab": {
     "base_uri": "https://localhost:8080/",
     "height": 370
    },
    "id": "QjiNKIRGLL_t",
    "outputId": "3ad2b6f6-1041-4b6e-b52e-0b56ecd61a30"
   },
   "outputs": [],
   "source": [
    "import pymongo\n",
    "client = pymongo.MongoClient(\"mongodb://localhost:27017/?readPreference=primary&appname=MongoDB%20Compass&ssl=false\")\n",
    "db = client.ComputerNetwork"
   ]
  },
  {
   "cell_type": "markdown",
   "metadata": {},
   "source": [
    "### Search Food"
   ]
  },
  {
   "cell_type": "code",
   "execution_count": 16,
   "metadata": {
    "ExecuteTime": {
     "end_time": "2021-03-25T10:29:09.932057Z",
     "start_time": "2021-03-25T10:29:06.865968Z"
    }
   },
   "outputs": [
    {
     "name": "stdout",
     "output_type": "stream",
     "text": [
      "ค้นหารายการอาหาร (ไม่ใส่หมายถึงค้นหาทั้งหมด): หมู\n"
     ]
    }
   ],
   "source": [
    "query = {\"name_th\": {\n",
    "    \"$regex\": f'{input(\"ค้นหารายการอาหาร (ไม่ใส่หมายถึงค้นหาทั้งหมด): \")}'                \n",
    "}}\n",
    "data = list(db.Menu.find(query))"
   ]
  },
  {
   "cell_type": "markdown",
   "metadata": {},
   "source": [
    "### Show Menu"
   ]
  },
  {
   "cell_type": "code",
   "execution_count": 28,
   "metadata": {
    "ExecuteTime": {
     "end_time": "2021-03-25T10:44:42.772511Z",
     "start_time": "2021-03-25T10:37:07.824855Z"
    }
   },
   "outputs": [
    {
     "name": "stdout",
     "output_type": "stream",
     "text": [
      "+-------+----------------------------------------------------+-------------------+---------+\n",
      "| _id   | name_en                                            | name_th           |   price |\n",
      "+=======+====================================================+===================+=========+\n",
      "| F002  | Fried rice with pork/chicken                       | ข้าวผัดหมู/ไก่        |      40 |\n",
      "+-------+----------------------------------------------------+-------------------+---------+\n",
      "| F004  | Rice topped with stir-fried pork/chicken and basil | ช้าวผัดกะเพราะหมู/ไก่ |      40 |\n",
      "+-------+----------------------------------------------------+-------------------+---------+\n",
      "| F007  | Stewed pork leg on rice                            | ข้าวขาหมู           |      40 |\n",
      "+-------+----------------------------------------------------+-------------------+---------+\n",
      "| F009  | Rice porridge with pork                            | ข้าวต้มหมู           |      30 |\n",
      "+-------+----------------------------------------------------+-------------------+---------+\n",
      "| F011  | Congee with pork                                   | โจ๊กหมู             |      25 |\n",
      "+-------+----------------------------------------------------+-------------------+---------+\n",
      "| F012  | Barbecued red pork in sauce with rice              | ข้าวหมูแดง          |      40 |\n",
      "+-------+----------------------------------------------------+-------------------+---------+\n",
      "| F013  | Rice crispy pork                                   | ข้าวหมููกรอบ         |      40 |\n",
      "+-------+----------------------------------------------------+-------------------+---------+\n",
      "Option:\n",
      "        [S] => Select Food\n",
      "        \n",
      "        [E] => Exit\n",
      "        \n",
      "Enter your menu ID: e\n"
     ]
    }
   ],
   "source": [
    "table_menu_pages(data)"
   ]
  },
  {
   "cell_type": "code",
   "execution_count": null,
   "metadata": {},
   "outputs": [],
   "source": []
  }
 ],
 "metadata": {
  "colab": {
   "collapsed_sections": [],
   "name": "Store Project.ipynb",
   "provenance": []
  },
  "hide_input": false,
  "kernelspec": {
   "display_name": "Python 3",
   "language": "python",
   "name": "python3"
  },
  "language_info": {
   "codemirror_mode": {
    "name": "ipython",
    "version": 3
   },
   "file_extension": ".py",
   "mimetype": "text/x-python",
   "name": "python",
   "nbconvert_exporter": "python",
   "pygments_lexer": "ipython3",
   "version": "3.8.3"
  },
  "toc": {
   "base_numbering": 1,
   "nav_menu": {},
   "number_sections": true,
   "sideBar": true,
   "skip_h1_title": false,
   "title_cell": "Table of Contents",
   "title_sidebar": "Contents",
   "toc_cell": false,
   "toc_position": {},
   "toc_section_display": true,
   "toc_window_display": false
  },
  "varInspector": {
   "cols": {
    "lenName": 16,
    "lenType": 16,
    "lenVar": 40
   },
   "kernels_config": {
    "python": {
     "delete_cmd_postfix": "",
     "delete_cmd_prefix": "del ",
     "library": "var_list.py",
     "varRefreshCmd": "print(var_dic_list())"
    },
    "r": {
     "delete_cmd_postfix": ") ",
     "delete_cmd_prefix": "rm(",
     "library": "var_list.r",
     "varRefreshCmd": "cat(var_dic_list()) "
    }
   },
   "types_to_exclude": [
    "module",
    "function",
    "builtin_function_or_method",
    "instance",
    "_Feature"
   ],
   "window_display": false
  }
 },
 "nbformat": 4,
 "nbformat_minor": 1
}
