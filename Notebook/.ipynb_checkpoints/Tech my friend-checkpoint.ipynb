{
 "cells": [
  {
   "cell_type": "markdown",
   "metadata": {},
   "source": [
    "## Install Module\n",
    "พิมพ์ใน Terminal หรือ Command Prompt <br>\n",
    "`pip install numpy pandas tabulate`"
   ]
  },
  {
   "cell_type": "markdown",
   "metadata": {
    "pycharm": {
     "name": "#%% md\n"
    }
   },
   "source": [
    "## Pickle\n",
    "pickle สามารถใช้ส่ง object ผ่าน Sokcet ได้\n",
    "* Object คือ variable function ต่างๆใน python"
   ]
  },
  {
   "cell_type": "markdown",
   "metadata": {
    "pycharm": {
     "name": "#%% md\n"
    }
   },
   "source": [
    "`pickle.dumps()` ทำหน้าที่ เก็บไฟล์ไว้ใน pickle มองว่าห่อของขวัญก็ได้ <br>\n",
    "`pickle.loads()` ทำหน้าที่ แกะไฟล์จากกกล่อง pickle"
   ]
  },
  {
   "cell_type": "code",
   "execution_count": 6,
   "metadata": {
    "pycharm": {
     "name": "#%%\n"
    }
   },
   "outputs": [
    {
     "name": "stdout",
     "output_type": "stream",
     "text": [
      "b'\\x80\\x03X$\\x00\\x00\\x00\\xe0\\xb8\\xaa\\xe0\\xb9\\x88\\xe0\\xb8\\x87\\xe0\\xb8\\xad\\xe0\\xb8\\xb0\\xe0\\xb9\\x84\\xe0\\xb8\\xa3\\xe0\\xb8\\x81\\xe0\\xb9\\x87\\xe0\\xb9\\x84\\xe0\\xb8\\x94\\xe0\\xb9\\x89q\\x00.'\n",
      "type: <class 'bytes'>\n",
      "value: ส่งอะไรก็ได้\n"
     ]
    }
   ],
   "source": [
    "a = \"ส่งอะไรก็ได้\"\n",
    "b = pickle.dumps(a)\n",
    "print(b)\n",
    "print(\"type:\", type(b))\n",
    "\n",
    "value = pickle.loads(b)\n",
    "print(f\"value: {value}\")"
   ]
  },
  {
   "cell_type": "markdown",
   "metadata": {
    "pycharm": {
     "name": "#%% md\n"
    }
   },
   "source": [
    "สามารถส่งฟังก์ชันได้"
   ]
  },
  {
   "cell_type": "code",
   "execution_count": 8,
   "metadata": {
    "pycharm": {
     "name": "#%%\n"
    }
   },
   "outputs": [
    {
     "name": "stdout",
     "output_type": "stream",
     "text": [
      "<function say at 0x000002A55BE909D8>\n",
      "type: <class 'function'>\n",
      "Hello my compiter network members\n"
     ]
    }
   ],
   "source": [
    "def say():\n",
    "    print(\"Hello my compiter network members\")\n",
    "\n",
    "a = pickle.dumps(say)\n",
    "value = pickle.loads(a)\n",
    "\n",
    "print(value)\n",
    "print(\"type:\", type(value))\n",
    "value()\n"
   ]
  },
  {
   "cell_type": "markdown",
   "metadata": {
    "pycharm": {
     "name": "#%% md\n"
    }
   },
   "source": [
    "## String format"
   ]
  },
  {
   "cell_type": "code",
   "execution_count": 11,
   "metadata": {
    "pycharm": {
     "name": "#%%\n"
    }
   },
   "outputs": [
    {
     "name": "stdout",
     "output_type": "stream",
     "text": [
      "hello 50 asdkjasd\n"
     ]
    }
   ],
   "source": [
    "# 1 \n",
    "print(\"hello {} {}\".format(50, \"asdkjasd\"))"
   ]
  },
  {
   "cell_type": "code",
   "execution_count": 10,
   "metadata": {
    "pycharm": {
     "name": "#%%\n"
    }
   },
   "outputs": [
    {
     "name": "stdout",
     "output_type": "stream",
     "text": [
      "hello 50 comnet 50.000000\n"
     ]
    }
   ],
   "source": [
    "# 2\n",
    "print(\"hello %d %s %f\"%(50, \"comnet\", 50))"
   ]
  },
  {
   "cell_type": "code",
   "execution_count": 12,
   "metadata": {
    "pycharm": {
     "name": "#%%\n"
    }
   },
   "outputs": [
    {
     "name": "stdout",
     "output_type": "stream",
     "text": [
      "hello 50 ajsdkhasljkdljas\n"
     ]
    }
   ],
   "source": [
    "# 3\n",
    "print(f\"hello {50} {'ajsdkhasljkdljas'}\")\n"
   ]
  },
  {
   "cell_type": "markdown",
   "metadata": {
    "pycharm": {
     "name": "#%% md\n"
    }
   },
   "source": [
    "## Basic Function\n",
    "* Define function\n",
    "* Lambda function"
   ]
  },
  {
   "cell_type": "markdown",
   "metadata": {
    "pycharm": {
     "name": "#%% md\n"
    }
   },
   "source": [
    "#### Define function\n",
    "คือฟังก์ชันที่ต้องประกาศทุกครั้งที่จะใช้\n",
    "``` python\n",
    "def ชื่อฟังก์ชัน(<arguments>):\n",
    "    การทำงาน\n",
    "    return ค่าที่ต้องการให้ออกมาจากฟังก์ชัน\n",
    "```"
   ]
  },
  {
   "cell_type": "code",
   "execution_count": 14,
   "metadata": {
    "pycharm": {
     "name": "#%%\n"
    }
   },
   "outputs": [
    {
     "name": "stdout",
     "output_type": "stream",
     "text": [
      "Hello computer network\n",
      "None\n"
     ]
    }
   ],
   "source": [
    "def call():\n",
    "    print(\"Hello computer network\")\n",
    "\n",
    "a = call()\n",
    "print(a)"
   ]
  },
  {
   "cell_type": "code",
   "execution_count": 16,
   "metadata": {
    "pycharm": {
     "name": "#%%\n"
    }
   },
   "outputs": [
    {
     "name": "stdout",
     "output_type": "stream",
     "text": [
      "หนูจะเอาค่า PI\n",
      "3.14\n"
     ]
    }
   ],
   "source": [
    "def pi():\n",
    "    print(\"หนูจะเอาค่า PI\")\n",
    "    return 3.14\n",
    "\n",
    "a = pi()\n",
    "print(a)"
   ]
  },
  {
   "cell_type": "code",
   "execution_count": 18,
   "metadata": {
    "pycharm": {
     "name": "#%%\n"
    }
   },
   "outputs": [
    {
     "name": "stdout",
     "output_type": "stream",
     "text": [
      "Name: Computer Network\n",
      "CS\n"
     ]
    }
   ],
   "source": [
    "def show(name, dept):\n",
    "    print(f\"Name: {name}\")\n",
    "    return dept\n",
    "\n",
    "a = show(\"Computer Network\", \"CS\")\n",
    "print(a)"
   ]
  },
  {
   "cell_type": "markdown",
   "metadata": {
    "pycharm": {
     "name": "#%% md\n"
    }
   },
   "source": [
    "#### Lambda function\n",
    "คือฟังก์ชันที่จะมีชื่อหรือไม่มีก็ได้\n",
    "``` python\n",
    "lambda <arguments>: <ค่าที่จะให้ฟังก์ชันส่งออกมา>\n",
    "```"
   ]
  },
  {
   "cell_type": "markdown",
   "metadata": {
    "pycharm": {
     "name": "#%% md\n"
    }
   },
   "source": [
    "* แบบมีชื่อ"
   ]
  },
  {
   "cell_type": "code",
   "execution_count": 20,
   "metadata": {
    "pycharm": {
     "name": "#%%\n"
    }
   },
   "outputs": [
    {
     "name": "stdout",
     "output_type": "stream",
     "text": [
      "Square: 2500\n",
      "Sum: 15\n"
     ]
    }
   ],
   "source": [
    "square = lambda x: x*x\n",
    "value = square(50)\n",
    "print(\"Square:\", value)\n",
    "\n",
    "sum = lambda x,y: x+y\n",
    "value = sum(10,5)\n",
    "print(\"Sum:\", value)"
   ]
  },
  {
   "cell_type": "markdown",
   "metadata": {
    "pycharm": {
     "name": "#%% md\n"
    }
   },
   "source": [
    "* แบบไม่มีชื่อ\n"
   ]
  },
  {
   "cell_type": "code",
   "execution_count": 21,
   "metadata": {
    "pycharm": {
     "name": "#%%\n"
    }
   },
   "outputs": [
    {
     "name": "stdout",
     "output_type": "stream",
     "text": [
      "2500\n"
     ]
    }
   ],
   "source": [
    "value = (lambda  x: x*50)(50)\n",
    "print(value)"
   ]
  },
  {
   "cell_type": "code",
   "execution_count": 23,
   "metadata": {
    "pycharm": {
     "name": "#%%\n"
    }
   },
   "outputs": [
    {
     "name": "stdout",
     "output_type": "stream",
     "text": [
      "Hello Tong Tong Tong Tong Tong !!\n"
     ]
    }
   ],
   "source": [
    "print(\"Hello {}!!\".format(\n",
    "    (lambda x: x * 5) ('Tong ')\n",
    "))"
   ]
  },
  {
   "cell_type": "markdown",
   "metadata": {
    "pycharm": {
     "name": "#%% md\n"
    }
   },
   "source": [
    "## Socket\n",
    "Server\n",
    "อธิบายแต่ละส่วน\n",
    "``` python\n",
    "from threading import Thread\n",
    "from socket import socket, gethostname\n",
    "from pickle import dumps, loads\n",
    "\n",
    "\n",
    "def server_command(c, addr):\n",
    "    ''' ฟังก์ชันที่ Server จะทำงานให้ในมุมมองของแต่ละ Client '''\n",
    "    c.send(file)\n",
    "\n",
    "'''\n",
    "สร้างกล่อง server, เอาชื่อเครื่อง, กำหนด port server\n",
    "'''\n",
    "s = socket()\n",
    "host = gethostname()\n",
    "port = 1234\n",
    "\n",
    "s.bind((host, port)) => เปิด server\n",
    "s.listen() => ให้ server อนุญาติให้ client ต่อกี่เครื่อง\n",
    "\n",
    "file = dumps([\"Computer\", 50])\n",
    "\n",
    "while True:\n",
    "    '''\n",
    "     => ถ้ามี Client ต่อเข้ามาให้รับแล้วส่ง server_command ให้แต่ละ client\n",
    "    '''\n",
    "    c, addr = s.accept()\n",
    "    Thread(target=server_command, args=(c, addr)).start()\n",
    "```\n",
    "\n"
   ]
  },
  {
   "cell_type": "markdown",
   "metadata": {
    "pycharm": {
     "name": "#%% md\n"
    }
   },
   "source": [
    "Client อธิบาย <br>\n",
    "``` python\n",
    "from socket import socket, gethostname\n",
    "from pickle import dumps, loads\n",
    "\n",
    "'''\n",
    "    1. สร้างกล่องเชื่อมต่อ\n",
    "    2. เอาชื่อเครื่องที่จะต่อ (เครื่องเรา)\n",
    "    3. เอาเลข port ที่จะต่อ\n",
    "'''\n",
    "s = socket()\n",
    "host = gethostname()\n",
    "port = 1234\n",
    "\n",
    "# เชื่อมต่อไปที่ server\n",
    "s.connect(\n",
    "    (host, port)\n",
    ")\n",
    "\n",
    "server_data = s.recv(1024) => รับไฟล์จาก Server\n",
    "value = loads(server_data)() => แกะกล่องจากไฟล์\n",
    "print(value)\n",
    "\n",
    "s.close() => เลิกเชื่อมต่อ\n",
    "\n",
    "```\n",
    "\n"
   ]
  }
 ],
 "metadata": {
  "hide_input": false,
  "kernelspec": {
   "display_name": "Python 3",
   "language": "python",
   "name": "python3"
  },
  "language_info": {
   "codemirror_mode": {
    "name": "ipython",
    "version": 3
   },
   "file_extension": ".py",
   "mimetype": "text/x-python",
   "name": "python",
   "nbconvert_exporter": "python",
   "pygments_lexer": "ipython3",
   "version": "3.7.7"
  },
  "toc": {
   "base_numbering": 1,
   "nav_menu": {},
   "number_sections": true,
   "sideBar": true,
   "skip_h1_title": false,
   "title_cell": "Table of Contents",
   "title_sidebar": "Contents",
   "toc_cell": false,
   "toc_position": {},
   "toc_section_display": true,
   "toc_window_display": false
  },
  "varInspector": {
   "cols": {
    "lenName": 16,
    "lenType": 16,
    "lenVar": 40
   },
   "kernels_config": {
    "python": {
     "delete_cmd_postfix": "",
     "delete_cmd_prefix": "del ",
     "library": "var_list.py",
     "varRefreshCmd": "print(var_dic_list())"
    },
    "r": {
     "delete_cmd_postfix": ") ",
     "delete_cmd_prefix": "rm(",
     "library": "var_list.r",
     "varRefreshCmd": "cat(var_dic_list()) "
    }
   },
   "types_to_exclude": [
    "module",
    "function",
    "builtin_function_or_method",
    "instance",
    "_Feature"
   ],
   "window_display": false
  }
 },
 "nbformat": 4,
 "nbformat_minor": 1
}
