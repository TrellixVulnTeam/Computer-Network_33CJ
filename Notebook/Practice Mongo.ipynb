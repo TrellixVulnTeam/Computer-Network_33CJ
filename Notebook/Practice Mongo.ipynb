{
 "cells": [
  {
   "cell_type": "code",
   "execution_count": 1,
   "metadata": {
    "ExecuteTime": {
     "end_time": "2021-03-24T13:22:42.561841Z",
     "start_time": "2021-03-24T13:22:41.557398Z"
    }
   },
   "outputs": [],
   "source": [
    "import pymongo\n",
    "client = pymongo.MongoClient(\"mongodb://localhost:27017/\")\n",
    "db = client.Practice                             "
   ]
  },
  {
   "cell_type": "code",
   "execution_count": 6,
   "metadata": {
    "ExecuteTime": {
     "end_time": "2021-03-24T13:25:13.748527Z",
     "start_time": "2021-03-24T13:25:13.734555Z"
    }
   },
   "outputs": [
    {
     "data": {
      "text/plain": [
       "<pymongo.results.InsertManyResult at 0x276a71e6cc0>"
      ]
     },
     "execution_count": 6,
     "metadata": {},
     "output_type": "execute_result"
    }
   ],
   "source": [
    "db.user.insert_many([{\"user\": \"csmob\", \"name\": \"Computer Science\"}, \n",
    "                {\"user\": \"itmob\", \"name\": \"Infomation Technology\"}])"
   ]
  },
  {
   "cell_type": "code",
   "execution_count": 13,
   "metadata": {
    "ExecuteTime": {
     "end_time": "2021-03-24T13:36:41.528038Z",
     "start_time": "2021-03-24T13:36:41.512080Z"
    }
   },
   "outputs": [
    {
     "data": {
      "text/plain": [
       "[{'_id': ObjectId('605b3d7836b11f2acefccee6'),\n",
       "  'user': 'itmob',\n",
       "  'name': 'Infomation Technology'},\n",
       " {'_id': ObjectId('605b3db936b11f2acefccee8'),\n",
       "  'user': 'itmob',\n",
       "  'name': 'Infomation Technology'}]"
      ]
     },
     "execution_count": 13,
     "metadata": {},
     "output_type": "execute_result"
    }
   ],
   "source": [
    "[*db.user.find({\"user\": \"itmob\"})]"
   ]
  },
  {
   "cell_type": "code",
   "execution_count": 54,
   "metadata": {
    "ExecuteTime": {
     "end_time": "2021-03-24T13:47:02.245119Z",
     "start_time": "2021-03-24T13:47:02.230153Z"
    }
   },
   "outputs": [
    {
     "data": {
      "text/plain": [
       "[{'_id': ObjectId('605b3d7836b11f2acefccee6'),\n",
       "  'user': 'itmob',\n",
       "  'name': 'Infomation Technology'},\n",
       " {'_id': ObjectId('605b3db936b11f2acefccee8'),\n",
       "  'user': 'itmob',\n",
       "  'name': 'Infomation Technology'}]"
      ]
     },
     "execution_count": 54,
     "metadata": {},
     "output_type": "execute_result"
    }
   ],
   "source": [
    "query = dict(\n",
    "    \n",
    ")\n",
    "\n",
    "[*db.user.find(query)]"
   ]
  },
  {
   "cell_type": "code",
   "execution_count": 55,
   "metadata": {
    "ExecuteTime": {
     "end_time": "2021-03-24T13:47:05.482507Z",
     "start_time": "2021-03-24T13:47:05.476547Z"
    }
   },
   "outputs": [
    {
     "data": {
      "text/plain": [
       "<pymongo.results.DeleteResult at 0x276a7a4f080>"
      ]
     },
     "execution_count": 55,
     "metadata": {},
     "output_type": "execute_result"
    }
   ],
   "source": [
    "# db.user.delete_one(query)\n",
    "db.user.delete_many(query)"
   ]
  },
  {
   "cell_type": "code",
   "execution_count": 127,
   "metadata": {
    "ExecuteTime": {
     "end_time": "2021-03-24T14:12:35.159275Z",
     "start_time": "2021-03-24T14:12:35.148309Z"
    }
   },
   "outputs": [
    {
     "data": {
      "text/plain": [
       "[{'_id': 'F000', 'date': datetime.datetime(2021, 3, 24, 14, 6, 52, 637000)},\n",
       " {'_id': 'F001', 'name_en': 'Fried rice', 'name_th': 'ข้าวผัด', 'price': 1230},\n",
       " {'_id': 'F003',\n",
       "  'name_en': 'Fried rice with shimps/crabmeat',\n",
       "  'name_th': 'ข้าวผัดกุ้ง/ปู',\n",
       "  'price': 1230},\n",
       " {'_id': 'F004',\n",
       "  'name_en': 'Rice topped with stir-fried pork/chicken and basil',\n",
       "  'name_th': 'ช้าวผัดกะเพราะหมู/ไก่',\n",
       "  'price': 1230},\n",
       " {'_id': 'F002',\n",
       "  'name_en': 'Fried rice with pork/chicken',\n",
       "  'name_th': 'ข้าวผัดหมู/ไก่',\n",
       "  'price': 1230}]"
      ]
     },
     "execution_count": 127,
     "metadata": {},
     "output_type": "execute_result"
    }
   ],
   "source": [
    "query = dict(\n",
    "    _id = {\"$regex\": \"F0\"}\n",
    ")\n",
    "new_value = {\n",
    "    \"$set\": {\n",
    "        \"price\": 1230\n",
    "    }\n",
    "}\n",
    "\n",
    "# db.user.update_many(query, new_value)\n",
    "[*db.user.find(query).sort(\"price\", 1).limit(5)]"
   ]
  },
  {
   "cell_type": "code",
   "execution_count": 94,
   "metadata": {
    "ExecuteTime": {
     "end_time": "2021-03-24T14:06:52.651455Z",
     "start_time": "2021-03-24T14:06:52.636450Z"
    }
   },
   "outputs": [
    {
     "data": {
      "text/plain": [
       "<pymongo.results.InsertOneResult at 0x276a815a100>"
      ]
     },
     "execution_count": 94,
     "metadata": {},
     "output_type": "execute_result"
    }
   ],
   "source": [
    "import datetime\n",
    "db.user.insert_one({\n",
    "    \"_id\": \"F000\",\n",
    "    \"date\": datetime.datetime.utcnow()\n",
    "})"
   ]
  },
  {
   "cell_type": "code",
   "execution_count": 124,
   "metadata": {
    "ExecuteTime": {
     "end_time": "2021-03-24T14:11:55.407369Z",
     "start_time": "2021-03-24T14:11:55.396397Z"
    }
   },
   "outputs": [
    {
     "data": {
      "text/plain": [
       "datetime.datetime(2021, 3, 24, 21, 11, 55, 396397)"
      ]
     },
     "execution_count": 124,
     "metadata": {},
     "output_type": "execute_result"
    }
   ],
   "source": [
    "# datetime.datetime.now()\n",
    "datetime.datetime.today()"
   ]
  },
  {
   "cell_type": "code",
   "execution_count": 2,
   "metadata": {
    "ExecuteTime": {
     "end_time": "2021-03-24T14:13:00.733316Z",
     "start_time": "2021-03-24T14:13:00.724339Z"
    }
   },
   "outputs": [
    {
     "data": {
      "text/plain": "['user']"
     },
     "execution_count": 2,
     "metadata": {},
     "output_type": "execute_result"
    }
   ],
   "source": [
    "db.list_collection_names()"
   ]
  },
  {
   "cell_type": "code",
   "execution_count": 134,
   "metadata": {
    "ExecuteTime": {
     "end_time": "2021-03-24T14:14:26.007433Z",
     "start_time": "2021-03-24T14:14:25.988433Z"
    }
   },
   "outputs": [
    {
     "name": "stdout",
     "output_type": "stream",
     "text": [
      "{'_id': 'F001', 'name_en': 'Fried rice', 'name_th': 'ข้าวผัด', 'price': 1230}\n"
     ]
    }
   ],
   "source": [
    "from pprint import pprint\n",
    "pprint(db.user.find_one())"
   ]
  }
 ],
 "metadata": {
  "hide_input": false,
  "kernelspec": {
   "display_name": "Python 3",
   "language": "python",
   "name": "python3"
  },
  "language_info": {
   "codemirror_mode": {
    "name": "ipython",
    "version": 3
   },
   "file_extension": ".py",
   "mimetype": "text/x-python",
   "name": "python",
   "nbconvert_exporter": "python",
   "pygments_lexer": "ipython3",
   "version": "3.8.3"
  },
  "toc": {
   "base_numbering": 1,
   "nav_menu": {},
   "number_sections": true,
   "sideBar": true,
   "skip_h1_title": false,
   "title_cell": "Table of Contents",
   "title_sidebar": "Contents",
   "toc_cell": false,
   "toc_position": {},
   "toc_section_display": true,
   "toc_window_display": false
  },
  "varInspector": {
   "cols": {
    "lenName": 16,
    "lenType": 16,
    "lenVar": 40
   },
   "kernels_config": {
    "python": {
     "delete_cmd_postfix": "",
     "delete_cmd_prefix": "del ",
     "library": "var_list.py",
     "varRefreshCmd": "print(var_dic_list())"
    },
    "r": {
     "delete_cmd_postfix": ") ",
     "delete_cmd_prefix": "rm(",
     "library": "var_list.r",
     "varRefreshCmd": "cat(var_dic_list()) "
    }
   },
   "types_to_exclude": [
    "module",
    "function",
    "builtin_function_or_method",
    "instance",
    "_Feature"
   ],
   "window_display": false
  }
 },
 "nbformat": 4,
 "nbformat_minor": 4
}